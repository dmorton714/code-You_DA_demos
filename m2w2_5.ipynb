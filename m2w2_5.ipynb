{
  "cells": [
    {
      "cell_type": "markdown",
      "metadata": {
        "colab_type": "text",
        "id": "view-in-github"
      },
      "source": [
        "<a href=\"https://colab.research.google.com/github/dmorton714/code-You_DA_demos/blob/main/m2w2_5.ipynb\" target=\"_parent\"><img src=\"https://colab.research.google.com/assets/colab-badge.svg\" alt=\"Open In Colab\"/></a>"
      ]
    },
    {
      "cell_type": "code",
      "execution_count": 1,
      "metadata": {
        "id": "6B677CffROX_"
      },
      "outputs": [],
      "source": [
        "import numpy as np\n",
        "import pandas as pd"
      ]
    },
    {
      "cell_type": "markdown",
      "metadata": {
        "id": "wcVmPRsDspOA"
      },
      "source": [
        "# Builds out the data set."
      ]
    },
    {
      "cell_type": "markdown",
      "metadata": {
        "id": "HCUyKnqOuVHf"
      },
      "source": [
        "****This code is less important. It just generates data for us to use below.****"
      ]
    },
    {
      "cell_type": "markdown",
      "metadata": {
        "id": "JE_N9TMVtMkf"
      },
      "source": [
        "\n",
        "This code generates a synthetic dataset with 60 entries, each representing a person with randomly assigned attributes such as name, age, gender, race, and income, utilizing NumPy and Pandas for data manipulation."
      ]
    },
    {
      "cell_type": "code",
      "execution_count": 2,
      "metadata": {
        "id": "b2gp5INVScL3"
      },
      "outputs": [],
      "source": [
        "names = np.array([f'Person{i}' for i in range(60)])\n",
        "ages = np.random.randint(18, 65, 60)\n",
        "genders = np.random.choice(['Male', 'Female'], 60)\n",
        "races = np.random.choice(['White', 'Black', 'Hispanic', 'Asian', 'Other'], 60)\n",
        "incomes = np.random.randint(10000, 100000, 60)\n",
        "df = pd.DataFrame({\n",
        "    'name': names,\n",
        "    'age': ages,\n",
        "    'gender': genders,\n",
        "    'race': races,\n",
        "    'income': incomes\n",
        "})\n"
      ]
    },
    {
      "cell_type": "markdown",
      "metadata": {
        "id": "TeRuOdaNuOYC"
      },
      "source": [
        "This code maps real names to corresponding code names in a DataFrame. The provided list 'real_names' is associated with previously coded names, creating a new DataFrame 'code_names' with columns 'real_name' and 'code_name' for reference and comparison in data analysis."
      ]
    },
    {
      "cell_type": "code",
      "execution_count": 3,
      "metadata": {
        "id": "cHAZ0ly9YmW_"
      },
      "outputs": [],
      "source": [
        "real_names = [\n",
        "    \"Frank Smith\", \"Tony Adams\", \"Amanda Appleseed\", \"Robert Johnson\", \"Julia White\",\n",
        "    \"Michael Harris\", \"Sarah Baker\", \"William Foster\", \"Emily Turner\", \"James Carter\",\n",
        "    \"Linda Parker\", \"Thomas Reed\", \"Jessica Hayes\", \"Richard Brown\", \"Olivia Murphy\",\n",
        "    \"Charles Anderson\", \"Sophia Taylor\", \"David Martin\", \"Emma Nelson\", \"Daniel Wright\",\n",
        "    \"Ashley Hall\", \"Matthew Bennett\", \"Jennifer Scott\", \"Brian Coleman\", \"Lauren Evans\",\n",
        "    \"Christopher Mitchell\", \"Grace Stewart\", \"Joseph Lopez\", \"Lily Garcia\", \"Andrew Turner\",\n",
        "    \"Natalie Brooks\", \"Kenneth Young\", \"Zoey Sanchez\", \"Samuel King\", \"Madison Collins\",\n",
        "    \"Benjamin Butler\", \"Chloe Foster\", \"John Reed\", \"Victoria Moore\", \"Nicholas Perry\",\n",
        "    \"Ava Simmons\", \"Ryan Smith\", \"Hannah Watson\", \"George Wilson\", \"Elizabeth Miller\",\n",
        "    \"William Hayes\", \"Penelope Hall\", \"Jack Cooper\", \"Abigail Price\", \"Patrick Green\",\n",
        "    \"Mia Russell\", \"Ethan Turner\", \"Sophia White\", \"Kevin Cook\", \"Zoey Hill\",\n",
        "    \"Daniel Turner\", \"Scarlett Simmons\", \"Ryan Adams\", \"Grace Martinez\", \"Samuel Howard\"\n",
        "]\n",
        "\n",
        "# Create a DataFrame\n",
        "code_names = np.array([f'Person{i}' for i in range(60)])\n",
        "\n",
        "code_names = pd.DataFrame({'real_name': real_names, 'code_name': code_names})"
      ]
    },
    {
      "cell_type": "code",
      "execution_count": 4,
      "metadata": {},
      "outputs": [],
      "source": [
        "df.to_csv('data.csv')"
      ]
    },
    {
      "cell_type": "markdown",
      "metadata": {
        "id": "L181buLBs6Vu"
      },
      "source": [
        "# Data Exploration"
      ]
    },
    {
      "cell_type": "markdown",
      "metadata": {
        "id": "VOvMbAsAv_xA"
      },
      "source": [
        "| DataFrame Name | Description |\n",
        "|----------|----------|\n",
        "| df       | contains: coded names, age,\tgender,\trace, and\tincome |\n",
        "| code_names| contains: real names, and\tcoded names |\n"
      ]
    },
    {
      "cell_type": "markdown",
      "metadata": {
        "id": "lNg1k8NyvM-1"
      },
      "source": [
        "In Pandas, the `.head()` function displays the first five rows of a DataFrame by default, offering a quick overview of its structure and content. Conversely, the `.tail()` function shows the last five rows, aiding in inspecting the end of the DataFrame, which is particularly useful for large datasets."
      ]
    },
    {
      "cell_type": "code",
      "execution_count": 5,
      "metadata": {
        "colab": {
          "base_uri": "https://localhost:8080/",
          "height": 206
        },
        "id": "T584NIRUtFko",
        "outputId": "d7e72dca-5592-457f-a6c1-bdb6ca0e4d77"
      },
      "outputs": [
        {
          "data": {
            "text/html": [
              "<div>\n",
              "<style scoped>\n",
              "    .dataframe tbody tr th:only-of-type {\n",
              "        vertical-align: middle;\n",
              "    }\n",
              "\n",
              "    .dataframe tbody tr th {\n",
              "        vertical-align: top;\n",
              "    }\n",
              "\n",
              "    .dataframe thead th {\n",
              "        text-align: right;\n",
              "    }\n",
              "</style>\n",
              "<table border=\"1\" class=\"dataframe\">\n",
              "  <thead>\n",
              "    <tr style=\"text-align: right;\">\n",
              "      <th></th>\n",
              "      <th>real_name</th>\n",
              "      <th>code_name</th>\n",
              "    </tr>\n",
              "  </thead>\n",
              "  <tbody>\n",
              "    <tr>\n",
              "      <th>0</th>\n",
              "      <td>Frank Smith</td>\n",
              "      <td>Person0</td>\n",
              "    </tr>\n",
              "    <tr>\n",
              "      <th>1</th>\n",
              "      <td>Tony Adams</td>\n",
              "      <td>Person1</td>\n",
              "    </tr>\n",
              "    <tr>\n",
              "      <th>2</th>\n",
              "      <td>Amanda Appleseed</td>\n",
              "      <td>Person2</td>\n",
              "    </tr>\n",
              "    <tr>\n",
              "      <th>3</th>\n",
              "      <td>Robert Johnson</td>\n",
              "      <td>Person3</td>\n",
              "    </tr>\n",
              "    <tr>\n",
              "      <th>4</th>\n",
              "      <td>Julia White</td>\n",
              "      <td>Person4</td>\n",
              "    </tr>\n",
              "  </tbody>\n",
              "</table>\n",
              "</div>"
            ],
            "text/plain": [
              "          real_name code_name\n",
              "0       Frank Smith   Person0\n",
              "1        Tony Adams   Person1\n",
              "2  Amanda Appleseed   Person2\n",
              "3    Robert Johnson   Person3\n",
              "4       Julia White   Person4"
            ]
          },
          "execution_count": 5,
          "metadata": {},
          "output_type": "execute_result"
        }
      ],
      "source": [
        "code_names.head()"
      ]
    },
    {
      "cell_type": "code",
      "execution_count": 6,
      "metadata": {
        "colab": {
          "base_uri": "https://localhost:8080/",
          "height": 206
        },
        "id": "biuo3ZbPUTsq",
        "outputId": "01b234f7-e0b2-4b56-aeba-13d37b117f6f"
      },
      "outputs": [
        {
          "data": {
            "text/html": [
              "<div>\n",
              "<style scoped>\n",
              "    .dataframe tbody tr th:only-of-type {\n",
              "        vertical-align: middle;\n",
              "    }\n",
              "\n",
              "    .dataframe tbody tr th {\n",
              "        vertical-align: top;\n",
              "    }\n",
              "\n",
              "    .dataframe thead th {\n",
              "        text-align: right;\n",
              "    }\n",
              "</style>\n",
              "<table border=\"1\" class=\"dataframe\">\n",
              "  <thead>\n",
              "    <tr style=\"text-align: right;\">\n",
              "      <th></th>\n",
              "      <th>name</th>\n",
              "      <th>age</th>\n",
              "      <th>gender</th>\n",
              "      <th>race</th>\n",
              "      <th>income</th>\n",
              "    </tr>\n",
              "  </thead>\n",
              "  <tbody>\n",
              "    <tr>\n",
              "      <th>0</th>\n",
              "      <td>Person0</td>\n",
              "      <td>49</td>\n",
              "      <td>Female</td>\n",
              "      <td>Black</td>\n",
              "      <td>36325</td>\n",
              "    </tr>\n",
              "    <tr>\n",
              "      <th>1</th>\n",
              "      <td>Person1</td>\n",
              "      <td>50</td>\n",
              "      <td>Female</td>\n",
              "      <td>Asian</td>\n",
              "      <td>31198</td>\n",
              "    </tr>\n",
              "    <tr>\n",
              "      <th>2</th>\n",
              "      <td>Person2</td>\n",
              "      <td>29</td>\n",
              "      <td>Female</td>\n",
              "      <td>White</td>\n",
              "      <td>25483</td>\n",
              "    </tr>\n",
              "    <tr>\n",
              "      <th>3</th>\n",
              "      <td>Person3</td>\n",
              "      <td>25</td>\n",
              "      <td>Male</td>\n",
              "      <td>White</td>\n",
              "      <td>72197</td>\n",
              "    </tr>\n",
              "    <tr>\n",
              "      <th>4</th>\n",
              "      <td>Person4</td>\n",
              "      <td>24</td>\n",
              "      <td>Male</td>\n",
              "      <td>Other</td>\n",
              "      <td>54368</td>\n",
              "    </tr>\n",
              "  </tbody>\n",
              "</table>\n",
              "</div>"
            ],
            "text/plain": [
              "      name  age  gender   race  income\n",
              "0  Person0   49  Female  Black   36325\n",
              "1  Person1   50  Female  Asian   31198\n",
              "2  Person2   29  Female  White   25483\n",
              "3  Person3   25    Male  White   72197\n",
              "4  Person4   24    Male  Other   54368"
            ]
          },
          "execution_count": 6,
          "metadata": {},
          "output_type": "execute_result"
        }
      ],
      "source": [
        "df.head()"
      ]
    },
    {
      "cell_type": "code",
      "execution_count": 7,
      "metadata": {
        "colab": {
          "base_uri": "https://localhost:8080/",
          "height": 206
        },
        "id": "1bazPpEdUWyD",
        "outputId": "9821c7bf-a5df-4a94-f9df-7b8ac6a4e2f7"
      },
      "outputs": [
        {
          "data": {
            "text/html": [
              "<div>\n",
              "<style scoped>\n",
              "    .dataframe tbody tr th:only-of-type {\n",
              "        vertical-align: middle;\n",
              "    }\n",
              "\n",
              "    .dataframe tbody tr th {\n",
              "        vertical-align: top;\n",
              "    }\n",
              "\n",
              "    .dataframe thead th {\n",
              "        text-align: right;\n",
              "    }\n",
              "</style>\n",
              "<table border=\"1\" class=\"dataframe\">\n",
              "  <thead>\n",
              "    <tr style=\"text-align: right;\">\n",
              "      <th></th>\n",
              "      <th>name</th>\n",
              "      <th>age</th>\n",
              "      <th>gender</th>\n",
              "      <th>race</th>\n",
              "      <th>income</th>\n",
              "    </tr>\n",
              "  </thead>\n",
              "  <tbody>\n",
              "    <tr>\n",
              "      <th>55</th>\n",
              "      <td>Person55</td>\n",
              "      <td>56</td>\n",
              "      <td>Male</td>\n",
              "      <td>White</td>\n",
              "      <td>36320</td>\n",
              "    </tr>\n",
              "    <tr>\n",
              "      <th>56</th>\n",
              "      <td>Person56</td>\n",
              "      <td>25</td>\n",
              "      <td>Male</td>\n",
              "      <td>White</td>\n",
              "      <td>61755</td>\n",
              "    </tr>\n",
              "    <tr>\n",
              "      <th>57</th>\n",
              "      <td>Person57</td>\n",
              "      <td>29</td>\n",
              "      <td>Female</td>\n",
              "      <td>Other</td>\n",
              "      <td>62495</td>\n",
              "    </tr>\n",
              "    <tr>\n",
              "      <th>58</th>\n",
              "      <td>Person58</td>\n",
              "      <td>18</td>\n",
              "      <td>Male</td>\n",
              "      <td>White</td>\n",
              "      <td>99967</td>\n",
              "    </tr>\n",
              "    <tr>\n",
              "      <th>59</th>\n",
              "      <td>Person59</td>\n",
              "      <td>53</td>\n",
              "      <td>Male</td>\n",
              "      <td>Other</td>\n",
              "      <td>95000</td>\n",
              "    </tr>\n",
              "  </tbody>\n",
              "</table>\n",
              "</div>"
            ],
            "text/plain": [
              "        name  age  gender   race  income\n",
              "55  Person55   56    Male  White   36320\n",
              "56  Person56   25    Male  White   61755\n",
              "57  Person57   29  Female  Other   62495\n",
              "58  Person58   18    Male  White   99967\n",
              "59  Person59   53    Male  Other   95000"
            ]
          },
          "execution_count": 7,
          "metadata": {},
          "output_type": "execute_result"
        }
      ],
      "source": [
        "df.tail()"
      ]
    },
    {
      "cell_type": "markdown",
      "metadata": {
        "id": "bgsF3IjFveJy"
      },
      "source": [
        "\n",
        "The `.info()` method in Pandas provides a concise summary of the DataFrame's structure, including the data types of each column, the number of non-null values, and the memory usage. It is a helpful tool for understanding the overall composition of the DataFrame and identifying potential data issues such as missing values."
      ]
    },
    {
      "cell_type": "code",
      "execution_count": 8,
      "metadata": {
        "colab": {
          "base_uri": "https://localhost:8080/"
        },
        "id": "Z24pVlekUiNx",
        "outputId": "06d1f844-6406-4622-d646-0bbd8f0956a5"
      },
      "outputs": [
        {
          "name": "stdout",
          "output_type": "stream",
          "text": [
            "<class 'pandas.core.frame.DataFrame'>\n",
            "RangeIndex: 60 entries, 0 to 59\n",
            "Data columns (total 5 columns):\n",
            " #   Column  Non-Null Count  Dtype \n",
            "---  ------  --------------  ----- \n",
            " 0   name    60 non-null     object\n",
            " 1   age     60 non-null     int64 \n",
            " 2   gender  60 non-null     object\n",
            " 3   race    60 non-null     object\n",
            " 4   income  60 non-null     int64 \n",
            "dtypes: int64(2), object(3)\n",
            "memory usage: 2.5+ KB\n"
          ]
        }
      ],
      "source": [
        "df.info()"
      ]
    },
    {
      "cell_type": "markdown",
      "metadata": {
        "id": "YyJZNAMqv3-6"
      },
      "source": [
        "The `.shape` attribute in Pandas returns a tuple representing the dimensions of the DataFrame, where the first element corresponds to the number of rows and the second element corresponds to the number of columns. It provides a quick way to ascertain the size of the dataset."
      ]
    },
    {
      "cell_type": "code",
      "execution_count": 9,
      "metadata": {
        "colab": {
          "base_uri": "https://localhost:8080/"
        },
        "id": "3qqZMjW8RcFk",
        "outputId": "de4fcb1c-00bd-4146-fbe4-171b6766cf17"
      },
      "outputs": [
        {
          "data": {
            "text/plain": [
              "(60, 5)"
            ]
          },
          "execution_count": 9,
          "metadata": {},
          "output_type": "execute_result"
        }
      ],
      "source": [
        "df.shape"
      ]
    },
    {
      "cell_type": "markdown",
      "metadata": {
        "id": "mmI5zfHdxIRQ"
      },
      "source": [
        "The `.columns` attribute in Pandas returns a list of column labels present in the DataFrame, providing a quick reference to the names of the variables or features within the dataset. It is a valuable tool for inspecting and referencing column names during data analysis and manipulation."
      ]
    },
    {
      "cell_type": "code",
      "execution_count": 10,
      "metadata": {
        "colab": {
          "base_uri": "https://localhost:8080/"
        },
        "id": "dFRpkqeqUcAE",
        "outputId": "da806506-7c10-4554-edf6-cc14eec5f365"
      },
      "outputs": [
        {
          "data": {
            "text/plain": [
              "Index(['name', 'age', 'gender', 'race', 'income'], dtype='object')"
            ]
          },
          "execution_count": 10,
          "metadata": {},
          "output_type": "execute_result"
        }
      ],
      "source": [
        "df.columns"
      ]
    },
    {
      "cell_type": "markdown",
      "metadata": {
        "id": "BzFrIbSMxX0i"
      },
      "source": [
        "# Manipulation"
      ]
    },
    {
      "cell_type": "markdown",
      "metadata": {
        "id": "Eep_DC9_x_jF"
      },
      "source": [
        "The code `df['income'] = df['income'].astype(float)` in Pandas is useful for converting the 'income' column in the DataFrame df to the float data type. This can be beneficial when working with numerical data, enabling mathematical operations and ensuring consistency in data types within the column."
      ]
    },
    {
      "cell_type": "code",
      "execution_count": 11,
      "metadata": {
        "id": "c8bDTMePUfMj"
      },
      "outputs": [],
      "source": [
        "df['income'] = df['income'].astype(float)"
      ]
    },
    {
      "cell_type": "markdown",
      "metadata": {
        "id": "FyFq-x_gyTKD"
      },
      "source": [
        "We employed the `.info()` method to validate the successful conversion of the 'income' column to a float data type."
      ]
    },
    {
      "cell_type": "code",
      "execution_count": 12,
      "metadata": {
        "colab": {
          "base_uri": "https://localhost:8080/"
        },
        "id": "5BMLjNtNUqkY",
        "outputId": "564a006a-7b85-4293-dfe5-465bb59752c0"
      },
      "outputs": [
        {
          "name": "stdout",
          "output_type": "stream",
          "text": [
            "<class 'pandas.core.frame.DataFrame'>\n",
            "RangeIndex: 60 entries, 0 to 59\n",
            "Data columns (total 5 columns):\n",
            " #   Column  Non-Null Count  Dtype  \n",
            "---  ------  --------------  -----  \n",
            " 0   name    60 non-null     object \n",
            " 1   age     60 non-null     int64  \n",
            " 2   gender  60 non-null     object \n",
            " 3   race    60 non-null     object \n",
            " 4   income  60 non-null     float64\n",
            "dtypes: float64(1), int64(1), object(3)\n",
            "memory usage: 2.5+ KB\n"
          ]
        }
      ],
      "source": [
        "df.info()"
      ]
    },
    {
      "cell_type": "markdown",
      "metadata": {
        "id": "EP9vnteFywce"
      },
      "source": [
        "The expression `df['age'].sum()` calculates the sum of values in the 'age' column of the DataFrame df."
      ]
    },
    {
      "cell_type": "code",
      "execution_count": 13,
      "metadata": {
        "colab": {
          "base_uri": "https://localhost:8080/"
        },
        "id": "qZFmfk0tR4Jf",
        "outputId": "038924c8-db18-496f-d7b0-7ff377805766"
      },
      "outputs": [
        {
          "data": {
            "text/plain": [
              "2384"
            ]
          },
          "execution_count": 13,
          "metadata": {},
          "output_type": "execute_result"
        }
      ],
      "source": [
        "df['age'].sum()"
      ]
    },
    {
      "cell_type": "markdown",
      "metadata": {
        "id": "YF56q3dDzHU_"
      },
      "source": [
        "`df.describe().round(2)` generates a summary statistics table for the DataFrame `df`, with each statistic rounded to two decimal places for enhanced readability. Chaining the `.round(2)` function refines the presentation of numerical values in the descriptive statistics output."
      ]
    },
    {
      "cell_type": "code",
      "execution_count": 14,
      "metadata": {
        "colab": {
          "base_uri": "https://localhost:8080/",
          "height": 300
        },
        "id": "mpadWlltU58-",
        "outputId": "b4811aef-5897-48cd-c4b7-d69e25997b85"
      },
      "outputs": [
        {
          "data": {
            "text/html": [
              "<div>\n",
              "<style scoped>\n",
              "    .dataframe tbody tr th:only-of-type {\n",
              "        vertical-align: middle;\n",
              "    }\n",
              "\n",
              "    .dataframe tbody tr th {\n",
              "        vertical-align: top;\n",
              "    }\n",
              "\n",
              "    .dataframe thead th {\n",
              "        text-align: right;\n",
              "    }\n",
              "</style>\n",
              "<table border=\"1\" class=\"dataframe\">\n",
              "  <thead>\n",
              "    <tr style=\"text-align: right;\">\n",
              "      <th></th>\n",
              "      <th>age</th>\n",
              "      <th>income</th>\n",
              "    </tr>\n",
              "  </thead>\n",
              "  <tbody>\n",
              "    <tr>\n",
              "      <th>count</th>\n",
              "      <td>60.00</td>\n",
              "      <td>60.00</td>\n",
              "    </tr>\n",
              "    <tr>\n",
              "      <th>mean</th>\n",
              "      <td>39.73</td>\n",
              "      <td>53183.75</td>\n",
              "    </tr>\n",
              "    <tr>\n",
              "      <th>std</th>\n",
              "      <td>13.88</td>\n",
              "      <td>26219.29</td>\n",
              "    </tr>\n",
              "    <tr>\n",
              "      <th>min</th>\n",
              "      <td>18.00</td>\n",
              "      <td>12996.00</td>\n",
              "    </tr>\n",
              "    <tr>\n",
              "      <th>25%</th>\n",
              "      <td>28.50</td>\n",
              "      <td>29300.25</td>\n",
              "    </tr>\n",
              "    <tr>\n",
              "      <th>50%</th>\n",
              "      <td>39.00</td>\n",
              "      <td>51275.50</td>\n",
              "    </tr>\n",
              "    <tr>\n",
              "      <th>75%</th>\n",
              "      <td>50.50</td>\n",
              "      <td>77210.25</td>\n",
              "    </tr>\n",
              "    <tr>\n",
              "      <th>max</th>\n",
              "      <td>64.00</td>\n",
              "      <td>99967.00</td>\n",
              "    </tr>\n",
              "  </tbody>\n",
              "</table>\n",
              "</div>"
            ],
            "text/plain": [
              "         age    income\n",
              "count  60.00     60.00\n",
              "mean   39.73  53183.75\n",
              "std    13.88  26219.29\n",
              "min    18.00  12996.00\n",
              "25%    28.50  29300.25\n",
              "50%    39.00  51275.50\n",
              "75%    50.50  77210.25\n",
              "max    64.00  99967.00"
            ]
          },
          "execution_count": 14,
          "metadata": {},
          "output_type": "execute_result"
        }
      ],
      "source": [
        "df.describe().round(2)"
      ]
    },
    {
      "cell_type": "markdown",
      "metadata": {
        "id": "H3lxlWThzjI6"
      },
      "source": [
        "`df['gender'].value_counts()` returns a count of unique values in the 'gender' column of the DataFrame `df`, providing a quick overview of the distribution of different gender categories and their frequencies in the dataset."
      ]
    },
    {
      "cell_type": "code",
      "execution_count": 15,
      "metadata": {
        "colab": {
          "base_uri": "https://localhost:8080/"
        },
        "id": "vmeBSMeYSRKR",
        "outputId": "7802078a-b206-4d11-821c-f513a66c113d"
      },
      "outputs": [
        {
          "data": {
            "text/plain": [
              "gender\n",
              "Female    32\n",
              "Male      28\n",
              "Name: count, dtype: int64"
            ]
          },
          "execution_count": 15,
          "metadata": {},
          "output_type": "execute_result"
        }
      ],
      "source": [
        "df['gender'].value_counts()"
      ]
    },
    {
      "cell_type": "markdown",
      "metadata": {
        "id": "urOBgYO2z7-Y"
      },
      "source": [
        "The code `df = df.rename(columns={'gender': 'Gender', 'age': 'Age', 'income': 'Income'})` renames the columns in the DataFrame df, updating 'gender' to 'Gender', 'age' to 'Age', and 'income' to 'Income'. This is useful for improving column name consistency and clarity in data analysis."
      ]
    },
    {
      "cell_type": "code",
      "execution_count": 16,
      "metadata": {
        "id": "R-UiYFzjU_6d"
      },
      "outputs": [],
      "source": [
        "df = df.rename(columns={'gender': 'Gender', 'age': 'Age', 'income': 'Income'})"
      ]
    },
    {
      "cell_type": "markdown",
      "metadata": {
        "id": "gC-JgHUU0VMq"
      },
      "source": [
        "\n",
        "This `.head(2)` operation serves as a confirmation that the changes made to column names have been successfully implemented and ensures the verification of the updated DataFrame structure."
      ]
    },
    {
      "cell_type": "code",
      "execution_count": 17,
      "metadata": {
        "colab": {
          "base_uri": "https://localhost:8080/",
          "height": 112
        },
        "id": "wLugPf8-Vbbl",
        "outputId": "38cb1b58-5aa1-4e70-dd16-3745a1cd331c"
      },
      "outputs": [
        {
          "data": {
            "text/html": [
              "<div>\n",
              "<style scoped>\n",
              "    .dataframe tbody tr th:only-of-type {\n",
              "        vertical-align: middle;\n",
              "    }\n",
              "\n",
              "    .dataframe tbody tr th {\n",
              "        vertical-align: top;\n",
              "    }\n",
              "\n",
              "    .dataframe thead th {\n",
              "        text-align: right;\n",
              "    }\n",
              "</style>\n",
              "<table border=\"1\" class=\"dataframe\">\n",
              "  <thead>\n",
              "    <tr style=\"text-align: right;\">\n",
              "      <th></th>\n",
              "      <th>name</th>\n",
              "      <th>Age</th>\n",
              "      <th>Gender</th>\n",
              "      <th>race</th>\n",
              "      <th>Income</th>\n",
              "    </tr>\n",
              "  </thead>\n",
              "  <tbody>\n",
              "    <tr>\n",
              "      <th>0</th>\n",
              "      <td>Person0</td>\n",
              "      <td>49</td>\n",
              "      <td>Female</td>\n",
              "      <td>Black</td>\n",
              "      <td>36325.0</td>\n",
              "    </tr>\n",
              "    <tr>\n",
              "      <th>1</th>\n",
              "      <td>Person1</td>\n",
              "      <td>50</td>\n",
              "      <td>Female</td>\n",
              "      <td>Asian</td>\n",
              "      <td>31198.0</td>\n",
              "    </tr>\n",
              "  </tbody>\n",
              "</table>\n",
              "</div>"
            ],
            "text/plain": [
              "      name  Age  Gender   race   Income\n",
              "0  Person0   49  Female  Black  36325.0\n",
              "1  Person1   50  Female  Asian  31198.0"
            ]
          },
          "execution_count": 17,
          "metadata": {},
          "output_type": "execute_result"
        }
      ],
      "source": [
        "df.head(2)"
      ]
    },
    {
      "cell_type": "markdown",
      "metadata": {
        "id": "E4C0cSS40pzd"
      },
      "source": [
        "The code `df = df.sort_values(['Age'], ascending=False)` sorts the DataFrame `df` based on the 'Age' column in descending order. This is useful for arranging the data by age in a descending fashion."
      ]
    },
    {
      "cell_type": "code",
      "execution_count": 18,
      "metadata": {
        "id": "4j-fnmC5VBhn"
      },
      "outputs": [],
      "source": [
        "df = df.sort_values(['Age'], ascending=False)"
      ]
    },
    {
      "cell_type": "markdown",
      "metadata": {
        "id": "0-OWzeLu06_b"
      },
      "source": [
        "This `.head(2)` operation serves as a confirmation that the changes above."
      ]
    },
    {
      "cell_type": "code",
      "execution_count": 19,
      "metadata": {
        "colab": {
          "base_uri": "https://localhost:8080/",
          "height": 206
        },
        "id": "oCkLVD-BVgAd",
        "outputId": "f1976a68-c26d-43ea-fafc-5c853b8a4634"
      },
      "outputs": [
        {
          "data": {
            "text/html": [
              "<div>\n",
              "<style scoped>\n",
              "    .dataframe tbody tr th:only-of-type {\n",
              "        vertical-align: middle;\n",
              "    }\n",
              "\n",
              "    .dataframe tbody tr th {\n",
              "        vertical-align: top;\n",
              "    }\n",
              "\n",
              "    .dataframe thead th {\n",
              "        text-align: right;\n",
              "    }\n",
              "</style>\n",
              "<table border=\"1\" class=\"dataframe\">\n",
              "  <thead>\n",
              "    <tr style=\"text-align: right;\">\n",
              "      <th></th>\n",
              "      <th>name</th>\n",
              "      <th>Age</th>\n",
              "      <th>Gender</th>\n",
              "      <th>race</th>\n",
              "      <th>Income</th>\n",
              "    </tr>\n",
              "  </thead>\n",
              "  <tbody>\n",
              "    <tr>\n",
              "      <th>21</th>\n",
              "      <td>Person21</td>\n",
              "      <td>64</td>\n",
              "      <td>Female</td>\n",
              "      <td>Hispanic</td>\n",
              "      <td>93414.0</td>\n",
              "    </tr>\n",
              "    <tr>\n",
              "      <th>5</th>\n",
              "      <td>Person5</td>\n",
              "      <td>64</td>\n",
              "      <td>Male</td>\n",
              "      <td>Black</td>\n",
              "      <td>20097.0</td>\n",
              "    </tr>\n",
              "    <tr>\n",
              "      <th>46</th>\n",
              "      <td>Person46</td>\n",
              "      <td>64</td>\n",
              "      <td>Female</td>\n",
              "      <td>Black</td>\n",
              "      <td>39305.0</td>\n",
              "    </tr>\n",
              "    <tr>\n",
              "      <th>15</th>\n",
              "      <td>Person15</td>\n",
              "      <td>63</td>\n",
              "      <td>Male</td>\n",
              "      <td>Hispanic</td>\n",
              "      <td>85601.0</td>\n",
              "    </tr>\n",
              "    <tr>\n",
              "      <th>42</th>\n",
              "      <td>Person42</td>\n",
              "      <td>63</td>\n",
              "      <td>Male</td>\n",
              "      <td>Asian</td>\n",
              "      <td>44039.0</td>\n",
              "    </tr>\n",
              "  </tbody>\n",
              "</table>\n",
              "</div>"
            ],
            "text/plain": [
              "        name  Age  Gender      race   Income\n",
              "21  Person21   64  Female  Hispanic  93414.0\n",
              "5    Person5   64    Male     Black  20097.0\n",
              "46  Person46   64  Female     Black  39305.0\n",
              "15  Person15   63    Male  Hispanic  85601.0\n",
              "42  Person42   63    Male     Asian  44039.0"
            ]
          },
          "execution_count": 19,
          "metadata": {},
          "output_type": "execute_result"
        }
      ],
      "source": [
        "df.head()"
      ]
    },
    {
      "cell_type": "markdown",
      "metadata": {
        "id": "BEf0yviG1NZI"
      },
      "source": [
        "\n",
        "The code `df = df.reset_index(drop=True)` resets the index of the DataFrame `df` and drops the previous index column. This is useful for reindexing the DataFrame sequentially from 0 to the number of rows, ensuring a clean and continuous index, which can be beneficial for subsequent data manipulation and analysis."
      ]
    },
    {
      "cell_type": "code",
      "execution_count": 20,
      "metadata": {
        "id": "HGlDisduVC2D"
      },
      "outputs": [],
      "source": [
        "df = df.reset_index(drop=True)"
      ]
    },
    {
      "cell_type": "markdown",
      "metadata": {
        "id": "Q8O930r31AQ5"
      },
      "source": [
        "This `.head(2)` operation serves as a confirmation that the changes above."
      ]
    },
    {
      "cell_type": "code",
      "execution_count": 21,
      "metadata": {
        "colab": {
          "base_uri": "https://localhost:8080/",
          "height": 206
        },
        "id": "dEMtdxzPWNv_",
        "outputId": "60347430-496e-47fd-ed74-17e90cd40ad8"
      },
      "outputs": [
        {
          "data": {
            "text/html": [
              "<div>\n",
              "<style scoped>\n",
              "    .dataframe tbody tr th:only-of-type {\n",
              "        vertical-align: middle;\n",
              "    }\n",
              "\n",
              "    .dataframe tbody tr th {\n",
              "        vertical-align: top;\n",
              "    }\n",
              "\n",
              "    .dataframe thead th {\n",
              "        text-align: right;\n",
              "    }\n",
              "</style>\n",
              "<table border=\"1\" class=\"dataframe\">\n",
              "  <thead>\n",
              "    <tr style=\"text-align: right;\">\n",
              "      <th></th>\n",
              "      <th>name</th>\n",
              "      <th>Age</th>\n",
              "      <th>Gender</th>\n",
              "      <th>race</th>\n",
              "      <th>Income</th>\n",
              "    </tr>\n",
              "  </thead>\n",
              "  <tbody>\n",
              "    <tr>\n",
              "      <th>0</th>\n",
              "      <td>Person21</td>\n",
              "      <td>64</td>\n",
              "      <td>Female</td>\n",
              "      <td>Hispanic</td>\n",
              "      <td>93414.0</td>\n",
              "    </tr>\n",
              "    <tr>\n",
              "      <th>1</th>\n",
              "      <td>Person5</td>\n",
              "      <td>64</td>\n",
              "      <td>Male</td>\n",
              "      <td>Black</td>\n",
              "      <td>20097.0</td>\n",
              "    </tr>\n",
              "    <tr>\n",
              "      <th>2</th>\n",
              "      <td>Person46</td>\n",
              "      <td>64</td>\n",
              "      <td>Female</td>\n",
              "      <td>Black</td>\n",
              "      <td>39305.0</td>\n",
              "    </tr>\n",
              "    <tr>\n",
              "      <th>3</th>\n",
              "      <td>Person15</td>\n",
              "      <td>63</td>\n",
              "      <td>Male</td>\n",
              "      <td>Hispanic</td>\n",
              "      <td>85601.0</td>\n",
              "    </tr>\n",
              "    <tr>\n",
              "      <th>4</th>\n",
              "      <td>Person42</td>\n",
              "      <td>63</td>\n",
              "      <td>Male</td>\n",
              "      <td>Asian</td>\n",
              "      <td>44039.0</td>\n",
              "    </tr>\n",
              "  </tbody>\n",
              "</table>\n",
              "</div>"
            ],
            "text/plain": [
              "       name  Age  Gender      race   Income\n",
              "0  Person21   64  Female  Hispanic  93414.0\n",
              "1   Person5   64    Male     Black  20097.0\n",
              "2  Person46   64  Female     Black  39305.0\n",
              "3  Person15   63    Male  Hispanic  85601.0\n",
              "4  Person42   63    Male     Asian  44039.0"
            ]
          },
          "execution_count": 21,
          "metadata": {},
          "output_type": "execute_result"
        }
      ],
      "source": [
        "df.head()"
      ]
    },
    {
      "cell_type": "markdown",
      "metadata": {
        "id": "WwlPgn4e1kPb"
      },
      "source": [
        "This code groups the DataFrame `df` by the 'Age' column, calculates the sum of 'Income' for each group, resets the index, sorts the results in descending order based on the total income, and returns the top rows. It provides a concise summary of the highest total incomes corresponding to different age groups in the dataset."
      ]
    },
    {
      "cell_type": "code",
      "execution_count": 22,
      "metadata": {
        "colab": {
          "base_uri": "https://localhost:8080/",
          "height": 206
        },
        "id": "SocNlZG0WaWe",
        "outputId": "692bf8d5-dabf-4f23-9267-f5134f2520a8"
      },
      "outputs": [
        {
          "data": {
            "text/html": [
              "<div>\n",
              "<style scoped>\n",
              "    .dataframe tbody tr th:only-of-type {\n",
              "        vertical-align: middle;\n",
              "    }\n",
              "\n",
              "    .dataframe tbody tr th {\n",
              "        vertical-align: top;\n",
              "    }\n",
              "\n",
              "    .dataframe thead th {\n",
              "        text-align: right;\n",
              "    }\n",
              "</style>\n",
              "<table border=\"1\" class=\"dataframe\">\n",
              "  <thead>\n",
              "    <tr style=\"text-align: right;\">\n",
              "      <th></th>\n",
              "      <th>Age</th>\n",
              "      <th>Income</th>\n",
              "    </tr>\n",
              "  </thead>\n",
              "  <tbody>\n",
              "    <tr>\n",
              "      <th>6</th>\n",
              "      <td>25</td>\n",
              "      <td>323610.0</td>\n",
              "    </tr>\n",
              "    <tr>\n",
              "      <th>9</th>\n",
              "      <td>30</td>\n",
              "      <td>186486.0</td>\n",
              "    </tr>\n",
              "    <tr>\n",
              "      <th>18</th>\n",
              "      <td>45</td>\n",
              "      <td>184777.0</td>\n",
              "    </tr>\n",
              "    <tr>\n",
              "      <th>8</th>\n",
              "      <td>29</td>\n",
              "      <td>184117.0</td>\n",
              "    </tr>\n",
              "    <tr>\n",
              "      <th>15</th>\n",
              "      <td>40</td>\n",
              "      <td>162989.0</td>\n",
              "    </tr>\n",
              "  </tbody>\n",
              "</table>\n",
              "</div>"
            ],
            "text/plain": [
              "    Age    Income\n",
              "6    25  323610.0\n",
              "9    30  186486.0\n",
              "18   45  184777.0\n",
              "8    29  184117.0\n",
              "15   40  162989.0"
            ]
          },
          "execution_count": 22,
          "metadata": {},
          "output_type": "execute_result"
        }
      ],
      "source": [
        "df.groupby('Age').agg({'Income': 'sum'}).reset_index().sort_values('Income', ascending=False).head()"
      ]
    },
    {
      "cell_type": "markdown",
      "metadata": {
        "id": "2gl-sCgS4qRy"
      },
      "source": [
        "This code filters the DataFrame `df` to include only rows where the 'race' column is \"Hispanic\", sorts these rows based on 'Income' in descending order, and returns the top rows. It offers a quick overview of the highest incomes within the Hispanic racial group in the dataset."
      ]
    },
    {
      "cell_type": "code",
      "execution_count": 23,
      "metadata": {
        "colab": {
          "base_uri": "https://localhost:8080/",
          "height": 206
        },
        "id": "xKKfH5HZXTtS",
        "outputId": "1fc37f37-f627-4790-c5cb-92a7259e5c3e"
      },
      "outputs": [
        {
          "data": {
            "text/html": [
              "<div>\n",
              "<style scoped>\n",
              "    .dataframe tbody tr th:only-of-type {\n",
              "        vertical-align: middle;\n",
              "    }\n",
              "\n",
              "    .dataframe tbody tr th {\n",
              "        vertical-align: top;\n",
              "    }\n",
              "\n",
              "    .dataframe thead th {\n",
              "        text-align: right;\n",
              "    }\n",
              "</style>\n",
              "<table border=\"1\" class=\"dataframe\">\n",
              "  <thead>\n",
              "    <tr style=\"text-align: right;\">\n",
              "      <th></th>\n",
              "      <th>name</th>\n",
              "      <th>Age</th>\n",
              "      <th>Gender</th>\n",
              "      <th>race</th>\n",
              "      <th>Income</th>\n",
              "    </tr>\n",
              "  </thead>\n",
              "  <tbody>\n",
              "    <tr>\n",
              "      <th>0</th>\n",
              "      <td>Person21</td>\n",
              "      <td>64</td>\n",
              "      <td>Female</td>\n",
              "      <td>Hispanic</td>\n",
              "      <td>93414.0</td>\n",
              "    </tr>\n",
              "    <tr>\n",
              "      <th>54</th>\n",
              "      <td>Person14</td>\n",
              "      <td>22</td>\n",
              "      <td>Male</td>\n",
              "      <td>Hispanic</td>\n",
              "      <td>87336.0</td>\n",
              "    </tr>\n",
              "    <tr>\n",
              "      <th>3</th>\n",
              "      <td>Person15</td>\n",
              "      <td>63</td>\n",
              "      <td>Male</td>\n",
              "      <td>Hispanic</td>\n",
              "      <td>85601.0</td>\n",
              "    </tr>\n",
              "    <tr>\n",
              "      <th>14</th>\n",
              "      <td>Person50</td>\n",
              "      <td>52</td>\n",
              "      <td>Female</td>\n",
              "      <td>Hispanic</td>\n",
              "      <td>83678.0</td>\n",
              "    </tr>\n",
              "    <tr>\n",
              "      <th>15</th>\n",
              "      <td>Person40</td>\n",
              "      <td>50</td>\n",
              "      <td>Male</td>\n",
              "      <td>Hispanic</td>\n",
              "      <td>76752.0</td>\n",
              "    </tr>\n",
              "  </tbody>\n",
              "</table>\n",
              "</div>"
            ],
            "text/plain": [
              "        name  Age  Gender      race   Income\n",
              "0   Person21   64  Female  Hispanic  93414.0\n",
              "54  Person14   22    Male  Hispanic  87336.0\n",
              "3   Person15   63    Male  Hispanic  85601.0\n",
              "14  Person50   52  Female  Hispanic  83678.0\n",
              "15  Person40   50    Male  Hispanic  76752.0"
            ]
          },
          "execution_count": 23,
          "metadata": {},
          "output_type": "execute_result"
        }
      ],
      "source": [
        "df.query('race == \"Hispanic\"').sort_values('Income', ascending=False).head()"
      ]
    },
    {
      "cell_type": "markdown",
      "metadata": {
        "id": "AePjxsfS5GLI"
      },
      "source": [
        "This code creates a pivot table from the DataFrame `df`, summarizing the mean 'Income' values for different combinations of 'race' and 'Gender'. The resulting table is rounded to two decimal places, providing insights into income distribution across various race and gender categories."
      ]
    },
    {
      "cell_type": "code",
      "execution_count": 24,
      "metadata": {
        "colab": {
          "base_uri": "https://localhost:8080/",
          "height": 237
        },
        "id": "axHR0HnDX03P",
        "outputId": "11077ec5-843c-423f-d512-6fe80bcf1d83"
      },
      "outputs": [
        {
          "data": {
            "text/html": [
              "<div>\n",
              "<style scoped>\n",
              "    .dataframe tbody tr th:only-of-type {\n",
              "        vertical-align: middle;\n",
              "    }\n",
              "\n",
              "    .dataframe tbody tr th {\n",
              "        vertical-align: top;\n",
              "    }\n",
              "\n",
              "    .dataframe thead th {\n",
              "        text-align: right;\n",
              "    }\n",
              "</style>\n",
              "<table border=\"1\" class=\"dataframe\">\n",
              "  <thead>\n",
              "    <tr style=\"text-align: right;\">\n",
              "      <th>Gender</th>\n",
              "      <th>Female</th>\n",
              "      <th>Male</th>\n",
              "    </tr>\n",
              "    <tr>\n",
              "      <th>race</th>\n",
              "      <th></th>\n",
              "      <th></th>\n",
              "    </tr>\n",
              "  </thead>\n",
              "  <tbody>\n",
              "    <tr>\n",
              "      <th>Asian</th>\n",
              "      <td>57829.29</td>\n",
              "      <td>44000.50</td>\n",
              "    </tr>\n",
              "    <tr>\n",
              "      <th>Black</th>\n",
              "      <td>47896.33</td>\n",
              "      <td>23051.33</td>\n",
              "    </tr>\n",
              "    <tr>\n",
              "      <th>Hispanic</th>\n",
              "      <td>56462.00</td>\n",
              "      <td>69678.00</td>\n",
              "    </tr>\n",
              "    <tr>\n",
              "      <th>Other</th>\n",
              "      <td>64505.60</td>\n",
              "      <td>51364.71</td>\n",
              "    </tr>\n",
              "    <tr>\n",
              "      <th>White</th>\n",
              "      <td>50697.50</td>\n",
              "      <td>55837.43</td>\n",
              "    </tr>\n",
              "  </tbody>\n",
              "</table>\n",
              "</div>"
            ],
            "text/plain": [
              "Gender      Female      Male\n",
              "race                        \n",
              "Asian     57829.29  44000.50\n",
              "Black     47896.33  23051.33\n",
              "Hispanic  56462.00  69678.00\n",
              "Other     64505.60  51364.71\n",
              "White     50697.50  55837.43"
            ]
          },
          "execution_count": 24,
          "metadata": {},
          "output_type": "execute_result"
        }
      ],
      "source": [
        "df.pivot_table(values='Income', index='race', columns='Gender').round(2)"
      ]
    },
    {
      "cell_type": "markdown",
      "metadata": {
        "id": "NEDV_Kzl5h0G"
      },
      "source": [
        "\n",
        "While plots are powerful for visualizing trends, a table, such as the one created with `df.pivot_table(values='Income', index='race', columns='Gender').round(2)`, can be more easily readable and provide detailed insights. Tables offer a precise numerical representation of data, making it easier to compare specific values and discern patterns, especially when dealing with complex datasets or when the exact values are critical. Additionally, tables are effective for presenting summary statistics in a concise and organized format, complementing visualizations when a detailed examination of data is required."
      ]
    },
    {
      "cell_type": "code",
      "execution_count": 25,
      "metadata": {
        "colab": {
          "base_uri": "https://localhost:8080/",
          "height": 467
        },
        "id": "CahW0Cw2lc0u",
        "outputId": "83c5278c-1553-4390-dd9f-9618f0527de5"
      },
      "outputs": [
        {
          "data": {
            "text/plain": [
              "<AxesSubplot:xlabel='race'>"
            ]
          },
          "execution_count": 25,
          "metadata": {},
          "output_type": "execute_result"
        },
        {
          "data": {
            "image/png": "[encoded data removed]",
            "text/plain": [
              "<Figure size 432x288 with 1 Axes>"
            ]
          },
          "metadata": {
            "needs_background": "light"
          },
          "output_type": "display_data"
        }
      ],
      "source": [
        "df.pivot_table(values='Income', index='race', columns='Gender').round(2).plot()"
      ]
    },
    {
      "cell_type": "markdown",
      "metadata": {
        "id": "Xf52Ky9w6rIT"
      },
      "source": [
        "The above pivot table computes the mean ('average') 'Income' values by default, while the below pivot table calculates the sum of 'Income' values for different race and gender categories, using the aggregation function np.sum. The distinction lies in the aggregation method, resulting in distinct summary statistics for income across various race and gender categories."
      ]
    },
    {
      "cell_type": "code",
      "execution_count": 26,
      "metadata": {
        "colab": {
          "base_uri": "https://localhost:8080/",
          "height": 237
        },
        "id": "a1NuHcBAmGG6",
        "outputId": "2f3bc2c6-e5aa-45d2-a54d-dd4ede1ef1ff"
      },
      "outputs": [
        {
          "name": "stderr",
          "output_type": "stream",
          "text": [
            "/var/folders/t5/sxblnh9s6r744cwj7y86ts1r0000gn/T/ipykernel_2350/1146792528.py:2: FutureWarning: The provided callable <function sum at 0x7f9a884291f0> is currently using DataFrameGroupBy.sum. In a future version of pandas, the provided callable will be used directly. To keep current behavior pass 'sum' instead.\n",
            "  pivot_table = df.pivot_table(values='Income', index='race', columns='Gender', aggfunc=np.sum).round(2)\n"
          ]
        },
        {
          "data": {
            "text/html": [
              "<div>\n",
              "<style scoped>\n",
              "    .dataframe tbody tr th:only-of-type {\n",
              "        vertical-align: middle;\n",
              "    }\n",
              "\n",
              "    .dataframe tbody tr th {\n",
              "        vertical-align: top;\n",
              "    }\n",
              "\n",
              "    .dataframe thead th {\n",
              "        text-align: right;\n",
              "    }\n",
              "</style>\n",
              "<table border=\"1\" class=\"dataframe\">\n",
              "  <thead>\n",
              "    <tr style=\"text-align: right;\">\n",
              "      <th>Gender</th>\n",
              "      <th>Female</th>\n",
              "      <th>Male</th>\n",
              "    </tr>\n",
              "    <tr>\n",
              "      <th>race</th>\n",
              "      <th></th>\n",
              "      <th></th>\n",
              "    </tr>\n",
              "  </thead>\n",
              "  <tbody>\n",
              "    <tr>\n",
              "      <th>Asian</th>\n",
              "      <td>404805.0</td>\n",
              "      <td>264003.0</td>\n",
              "    </tr>\n",
              "    <tr>\n",
              "      <th>Black</th>\n",
              "      <td>287378.0</td>\n",
              "      <td>69154.0</td>\n",
              "    </tr>\n",
              "    <tr>\n",
              "      <th>Hispanic</th>\n",
              "      <td>338772.0</td>\n",
              "      <td>348390.0</td>\n",
              "    </tr>\n",
              "    <tr>\n",
              "      <th>Other</th>\n",
              "      <td>322528.0</td>\n",
              "      <td>359553.0</td>\n",
              "    </tr>\n",
              "    <tr>\n",
              "      <th>White</th>\n",
              "      <td>405580.0</td>\n",
              "      <td>390862.0</td>\n",
              "    </tr>\n",
              "  </tbody>\n",
              "</table>\n",
              "</div>"
            ],
            "text/plain": [
              "Gender      Female      Male\n",
              "race                        \n",
              "Asian     404805.0  264003.0\n",
              "Black     287378.0   69154.0\n",
              "Hispanic  338772.0  348390.0\n",
              "Other     322528.0  359553.0\n",
              "White     405580.0  390862.0"
            ]
          },
          "execution_count": 26,
          "metadata": {},
          "output_type": "execute_result"
        }
      ],
      "source": [
        "# Create a pivot table with the sum of incomes for each race and gender\n",
        "pivot_table = df.pivot_table(values='Income', index='race', columns='Gender', aggfunc=np.sum).round(2)\n",
        "# Display the modified pivot table\n",
        "pivot_table"
      ]
    },
    {
      "cell_type": "code",
      "execution_count": 27,
      "metadata": {
        "colab": {
          "base_uri": "https://localhost:8080/",
          "height": 467
        },
        "id": "FbdqhFqPp224",
        "outputId": "5d2e139f-41ac-40ea-d096-524713badf93"
      },
      "outputs": [
        {
          "data": {
            "text/plain": [
              "<AxesSubplot:xlabel='race'>"
            ]
          },
          "execution_count": 27,
          "metadata": {},
          "output_type": "execute_result"
        },
        {
          "data": {
            "image/png": "[encoded data removed]",
            "text/plain": [
              "<Figure size 432x288 with 1 Axes>"
            ]
          },
          "metadata": {
            "needs_background": "light"
          },
          "output_type": "display_data"
        }
      ],
      "source": [
        "pivot_table.plot()"
      ]
    },
    {
      "cell_type": "markdown",
      "metadata": {
        "id": "4DW3ZMk47Z1i"
      },
      "source": [
        "This performs an inner join between the DataFrame `df` and `code_names` based on the common columns 'name' and 'code_name'. The resulting `merged_df` contains combined information from both DataFrames, aligning entries where the names match."
      ]
    },
    {
      "cell_type": "code",
      "execution_count": 28,
      "metadata": {
        "colab": {
          "base_uri": "https://localhost:8080/",
          "height": 206
        },
        "id": "eVC6ySulbEus",
        "outputId": "fd58b3d4-ceee-475e-e8a6-36e96e2b26b2"
      },
      "outputs": [
        {
          "data": {
            "text/html": [
              "<div>\n",
              "<style scoped>\n",
              "    .dataframe tbody tr th:only-of-type {\n",
              "        vertical-align: middle;\n",
              "    }\n",
              "\n",
              "    .dataframe tbody tr th {\n",
              "        vertical-align: top;\n",
              "    }\n",
              "\n",
              "    .dataframe thead th {\n",
              "        text-align: right;\n",
              "    }\n",
              "</style>\n",
              "<table border=\"1\" class=\"dataframe\">\n",
              "  <thead>\n",
              "    <tr style=\"text-align: right;\">\n",
              "      <th></th>\n",
              "      <th>name</th>\n",
              "      <th>Age</th>\n",
              "      <th>Gender</th>\n",
              "      <th>race</th>\n",
              "      <th>Income</th>\n",
              "      <th>real_name</th>\n",
              "      <th>code_name</th>\n",
              "    </tr>\n",
              "  </thead>\n",
              "  <tbody>\n",
              "    <tr>\n",
              "      <th>0</th>\n",
              "      <td>Person21</td>\n",
              "      <td>64</td>\n",
              "      <td>Female</td>\n",
              "      <td>Hispanic</td>\n",
              "      <td>93414.0</td>\n",
              "      <td>Matthew Bennett</td>\n",
              "      <td>Person21</td>\n",
              "    </tr>\n",
              "    <tr>\n",
              "      <th>1</th>\n",
              "      <td>Person5</td>\n",
              "      <td>64</td>\n",
              "      <td>Male</td>\n",
              "      <td>Black</td>\n",
              "      <td>20097.0</td>\n",
              "      <td>Michael Harris</td>\n",
              "      <td>Person5</td>\n",
              "    </tr>\n",
              "    <tr>\n",
              "      <th>2</th>\n",
              "      <td>Person46</td>\n",
              "      <td>64</td>\n",
              "      <td>Female</td>\n",
              "      <td>Black</td>\n",
              "      <td>39305.0</td>\n",
              "      <td>Penelope Hall</td>\n",
              "      <td>Person46</td>\n",
              "    </tr>\n",
              "    <tr>\n",
              "      <th>3</th>\n",
              "      <td>Person15</td>\n",
              "      <td>63</td>\n",
              "      <td>Male</td>\n",
              "      <td>Hispanic</td>\n",
              "      <td>85601.0</td>\n",
              "      <td>Charles Anderson</td>\n",
              "      <td>Person15</td>\n",
              "    </tr>\n",
              "    <tr>\n",
              "      <th>4</th>\n",
              "      <td>Person42</td>\n",
              "      <td>63</td>\n",
              "      <td>Male</td>\n",
              "      <td>Asian</td>\n",
              "      <td>44039.0</td>\n",
              "      <td>Hannah Watson</td>\n",
              "      <td>Person42</td>\n",
              "    </tr>\n",
              "  </tbody>\n",
              "</table>\n",
              "</div>"
            ],
            "text/plain": [
              "       name  Age  Gender      race   Income         real_name code_name\n",
              "0  Person21   64  Female  Hispanic  93414.0   Matthew Bennett  Person21\n",
              "1   Person5   64    Male     Black  20097.0    Michael Harris   Person5\n",
              "2  Person46   64  Female     Black  39305.0     Penelope Hall  Person46\n",
              "3  Person15   63    Male  Hispanic  85601.0  Charles Anderson  Person15\n",
              "4  Person42   63    Male     Asian  44039.0     Hannah Watson  Person42"
            ]
          },
          "execution_count": 28,
          "metadata": {},
          "output_type": "execute_result"
        }
      ],
      "source": [
        "merged_df = pd.merge(df, code_names, how='inner', left_on='name', right_on='code_name')\n",
        "merged_df.head()"
      ]
    },
    {
      "cell_type": "markdown",
      "metadata": {
        "id": "SHynkN3q75tK"
      },
      "source": [
        "This code selects specific columns from the DataFrame `merged_df`, creating a refined DataFrame with only the columns 'code_name', 'real_name', 'Age', 'Gender', 'Income', and 'race'. This operation is useful for focusing on specific attributes of interest in the analysis."
      ]
    },
    {
      "cell_type": "code",
      "execution_count": 29,
      "metadata": {
        "colab": {
          "base_uri": "https://localhost:8080/",
          "height": 206
        },
        "id": "H1fGS-OykDsB",
        "outputId": "355a0e34-ccfb-4298-9c68-54f3bb7512d7"
      },
      "outputs": [
        {
          "data": {
            "text/html": [
              "<div>\n",
              "<style scoped>\n",
              "    .dataframe tbody tr th:only-of-type {\n",
              "        vertical-align: middle;\n",
              "    }\n",
              "\n",
              "    .dataframe tbody tr th {\n",
              "        vertical-align: top;\n",
              "    }\n",
              "\n",
              "    .dataframe thead th {\n",
              "        text-align: right;\n",
              "    }\n",
              "</style>\n",
              "<table border=\"1\" class=\"dataframe\">\n",
              "  <thead>\n",
              "    <tr style=\"text-align: right;\">\n",
              "      <th></th>\n",
              "      <th>code_name</th>\n",
              "      <th>real_name</th>\n",
              "      <th>Age</th>\n",
              "      <th>Gender</th>\n",
              "      <th>Income</th>\n",
              "      <th>race</th>\n",
              "    </tr>\n",
              "  </thead>\n",
              "  <tbody>\n",
              "    <tr>\n",
              "      <th>0</th>\n",
              "      <td>Person21</td>\n",
              "      <td>Matthew Bennett</td>\n",
              "      <td>64</td>\n",
              "      <td>Female</td>\n",
              "      <td>93414.0</td>\n",
              "      <td>Hispanic</td>\n",
              "    </tr>\n",
              "    <tr>\n",
              "      <th>1</th>\n",
              "      <td>Person5</td>\n",
              "      <td>Michael Harris</td>\n",
              "      <td>64</td>\n",
              "      <td>Male</td>\n",
              "      <td>20097.0</td>\n",
              "      <td>Black</td>\n",
              "    </tr>\n",
              "    <tr>\n",
              "      <th>2</th>\n",
              "      <td>Person46</td>\n",
              "      <td>Penelope Hall</td>\n",
              "      <td>64</td>\n",
              "      <td>Female</td>\n",
              "      <td>39305.0</td>\n",
              "      <td>Black</td>\n",
              "    </tr>\n",
              "    <tr>\n",
              "      <th>3</th>\n",
              "      <td>Person15</td>\n",
              "      <td>Charles Anderson</td>\n",
              "      <td>63</td>\n",
              "      <td>Male</td>\n",
              "      <td>85601.0</td>\n",
              "      <td>Hispanic</td>\n",
              "    </tr>\n",
              "    <tr>\n",
              "      <th>4</th>\n",
              "      <td>Person42</td>\n",
              "      <td>Hannah Watson</td>\n",
              "      <td>63</td>\n",
              "      <td>Male</td>\n",
              "      <td>44039.0</td>\n",
              "      <td>Asian</td>\n",
              "    </tr>\n",
              "  </tbody>\n",
              "</table>\n",
              "</div>"
            ],
            "text/plain": [
              "  code_name         real_name  Age  Gender   Income      race\n",
              "0  Person21   Matthew Bennett   64  Female  93414.0  Hispanic\n",
              "1   Person5    Michael Harris   64    Male  20097.0     Black\n",
              "2  Person46     Penelope Hall   64  Female  39305.0     Black\n",
              "3  Person15  Charles Anderson   63    Male  85601.0  Hispanic\n",
              "4  Person42     Hannah Watson   63    Male  44039.0     Asian"
            ]
          },
          "execution_count": 29,
          "metadata": {},
          "output_type": "execute_result"
        }
      ],
      "source": [
        "merged_df = merged_df[['code_name', 'real_name', 'Age', 'Gender', 'Income', 'race']]\n",
        "merged_df.head()"
      ]
    }
  ],
  "metadata": {
    "colab": {
      "authorship_tag": "ABX9TyOT3WcA6bqgxGiBUy7L0ueE",
      "include_colab_link": true,
      "provenance": []
    },
    "kernelspec": {
      "display_name": "Python 3",
      "name": "python3"
    },
    "language_info": {
      "codemirror_mode": {
        "name": "ipython",
        "version": 3
      },
      "file_extension": ".py",
      "mimetype": "text/x-python",
      "name": "python",
      "nbconvert_exporter": "python",
      "pygments_lexer": "ipython3",
      "version": "3.9.12"
    }
  },
  "nbformat": 4,
  "nbformat_minor": 0
}
