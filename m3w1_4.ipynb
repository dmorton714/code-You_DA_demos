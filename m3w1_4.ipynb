{
  "cells": [
    {
      "cell_type": "markdown",
      "metadata": {
        "colab_type": "text",
        "id": "view-in-github"
      },
      "source": [
        "<a href=\"https://colab.research.google.com/github/dmorton714/code-You_DA_demos/blob/main/m3w1_4.ipynb\" target=\"_parent\"><img src=\"https://colab.research.google.com/assets/colab-badge.svg\" alt=\"Open In Colab\"/></a>"
      ]
    },
    {
      "cell_type": "code",
      "execution_count": 17,
      "metadata": {
        "id": "ImuMwLD-wxl1"
      },
      "outputs": [],
      "source": [
        "import pandas as pd\n",
        "import numpy as np\n",
        "import sqlite3\n",
        "from sqlite3 import connect"
      ]
    },
    {
      "cell_type": "markdown",
      "metadata": {
        "id": "9Ytrvy4Pw0QJ"
      },
      "source": [
        "# Data Being Made"
      ]
    },
    {
      "cell_type": "markdown",
      "metadata": {
        "id": "7CZv-tuOxS2J"
      },
      "source": [
        "****This code is less important. It just generates data for us to use below.****"
      ]
    },
    {
      "cell_type": "markdown",
      "metadata": {
        "id": "XwKA_52lxTeG"
      },
      "source": [
        "\n",
        "This code generates a synthetic dataset with 60 entries, each representing a person with randomly assigned attributes such as name, age, gender, race, and income, utilizing NumPy and Pandas for data manipulation."
      ]
    },
    {
      "cell_type": "code",
      "execution_count": 18,
      "metadata": {
        "id": "BoCg-qlKw7GR"
      },
      "outputs": [],
      "source": [
        "names = np.array([f'Person{i}' for i in range(60)])\n",
        "ages = np.random.randint(18, 65, 60)\n",
        "genders = np.random.choice(['Male', 'Female'], 60)\n",
        "races = np.random.choice(['White', 'Black', 'Hispanic', 'Asian', 'Other'], 60)\n",
        "incomes = np.random.randint(10000, 100000, 60)\n",
        "df = pd.DataFrame({\n",
        "    'name': names,\n",
        "    'age': ages,\n",
        "    'gender': genders,\n",
        "    'race': races,\n",
        "    'income': incomes\n",
        "})"
      ]
    },
    {
      "cell_type": "markdown",
      "metadata": {
        "id": "5jZI9Ft8xOwS"
      },
      "source": [
        "This code maps real names to corresponding code names in a DataFrame. The provided list 'real_names' is associated with previously coded names, creating a new DataFrame 'code_names' with columns 'real_name' and 'code_name' for reference and comparison in data analysis."
      ]
    },
    {
      "cell_type": "code",
      "execution_count": 19,
      "metadata": {
        "id": "d-s7AEtWxPJ7"
      },
      "outputs": [],
      "source": [
        "real_names = [\n",
        "    \"Frank Smith\", \"Tony Adams\", \"Amanda Appleseed\", \"Robert Johnson\", \"Julia White\",\n",
        "    \"Michael Harris\", \"Sarah Baker\", \"William Foster\", \"Emily Turner\", \"James Carter\",\n",
        "    \"Linda Parker\", \"Thomas Reed\", \"Jessica Hayes\", \"Richard Brown\", \"Olivia Murphy\",\n",
        "    \"Charles Anderson\", \"Sophia Taylor\", \"David Martin\", \"Emma Nelson\", \"Daniel Wright\",\n",
        "    \"Ashley Hall\", \"Matthew Bennett\", \"Jennifer Scott\", \"Brian Coleman\", \"Lauren Evans\",\n",
        "    \"Christopher Mitchell\", \"Grace Stewart\", \"Joseph Lopez\", \"Lily Garcia\", \"Andrew Turner\",\n",
        "    \"Natalie Brooks\", \"Kenneth Young\", \"Zoey Sanchez\", \"Samuel King\", \"Madison Collins\",\n",
        "    \"Benjamin Butler\", \"Chloe Foster\", \"John Reed\", \"Victoria Moore\", \"Nicholas Perry\",\n",
        "    \"Ava Simmons\", \"Ryan Smith\", \"Hannah Watson\", \"George Wilson\", \"Elizabeth Miller\",\n",
        "    \"William Hayes\", \"Penelope Hall\", \"Jack Cooper\", \"Abigail Price\", \"Patrick Green\",\n",
        "    \"Mia Russell\", \"Ethan Turner\", \"Sophia White\", \"Kevin Cook\", \"Zoey Hill\",\n",
        "    \"Daniel Turner\", \"Scarlett Simmons\", \"Ryan Adams\", \"Grace Martinez\", \"Samuel Howard\"\n",
        "]\n",
        "\n",
        "# Create a DataFrame\n",
        "code_names = np.array([f'Person{i}' for i in range(60)])\n",
        "\n",
        "code_names = pd.DataFrame({'real_name': real_names, 'code_name': code_names})"
      ]
    },
    {
      "cell_type": "markdown",
      "metadata": {
        "id": "vRBS389FxgvP"
      },
      "source": [
        "# SQL Connect"
      ]
    },
    {
      "cell_type": "markdown",
      "metadata": {
        "id": "HeqVbpMTx0iw"
      },
      "source": [
        "The code establishes an in-memory SQLite database using `connect(':memory:')`. It then stores the DataFrames df and code_names as tables named \"df\" and \"code_names\" in the SQLite database, enabling SQL-like querying and analysis on the in-memory data. This is particularly useful for temporary data storage and retrieval within the scope of the current session.\n",
        "\n"
      ]
    },
    {
      "cell_type": "code",
      "execution_count": 20,
      "metadata": {
        "colab": {
          "base_uri": "https://localhost:8080/"
        },
        "id": "6iZ7pHmCxj71",
        "outputId": "0875f81f-05d2-490e-f0b8-ed7783fa573f"
      },
      "outputs": [
        {
          "data": {
            "text/plain": [
              "60"
            ]
          },
          "execution_count": 20,
          "metadata": {},
          "output_type": "execute_result"
        }
      ],
      "source": [
        "conn = connect(':memory:')\n",
        "# create tables\n",
        "df.to_sql(\"df\", conn)\n",
        "code_names.to_sql(\"code_names\", conn)"
      ]
    },
    {
      "cell_type": "markdown",
      "metadata": {
        "id": "yWZ9nvfexyOv"
      },
      "source": [
        "\n",
        "The sql function provided is a convenience function for executing `SQL` queries on the SQLite database `(conn)`. It takes an SQL query string as input and uses `pd.read_sql()` from the Pandas library to execute the query on the database, returning the results as a Pandas DataFrame. This abstraction simplifies the process of querying the database and obtaining the results, making it more concise and readable in the code."
      ]
    },
    {
      "cell_type": "code",
      "execution_count": 21,
      "metadata": {
        "id": "B2YzpuyQxyY2"
      },
      "outputs": [],
      "source": [
        "# convenient function\n",
        "def sql(a_string):\n",
        "    return(pd.read_sql(a_string, conn))"
      ]
    },
    {
      "cell_type": "markdown",
      "metadata": {
        "id": "LLuOr0Gcx3vx"
      },
      "source": [
        "## Table schemas\n",
        "\n",
        "![Table Schema image](images/schema.jpg)\n",
        "\n",
        "Make your own diagram: https://app.diagrams.net/"
      ]
    },
    {
      "cell_type": "markdown",
      "metadata": {
        "id": "Rg5WjCQVDOev"
      },
      "source": [
        "This query retrieves the first 5 rows of all columns from the table named \"df\" in the SQLite database (conn). It provides a preview of the data in the \"df\" table, allowing you to examine a small subset of the records to understand the structure and content of the DataFrame stored in the database."
      ]
    },
    {
      "cell_type": "code",
      "execution_count": 22,
      "metadata": {
        "colab": {
          "base_uri": "https://localhost:8080/",
          "height": 206
        },
        "id": "5xClVxmi1JRA",
        "outputId": "4edd6a7e-6baf-4f42-a677-791b2d7d53cd"
      },
      "outputs": [
        {
          "data": {
            "text/html": [
              "<div>\n",
              "<style scoped>\n",
              "    .dataframe tbody tr th:only-of-type {\n",
              "        vertical-align: middle;\n",
              "    }\n",
              "\n",
              "    .dataframe tbody tr th {\n",
              "        vertical-align: top;\n",
              "    }\n",
              "\n",
              "    .dataframe thead th {\n",
              "        text-align: right;\n",
              "    }\n",
              "</style>\n",
              "<table border=\"1\" class=\"dataframe\">\n",
              "  <thead>\n",
              "    <tr style=\"text-align: right;\">\n",
              "      <th></th>\n",
              "      <th>index</th>\n",
              "      <th>name</th>\n",
              "      <th>age</th>\n",
              "      <th>gender</th>\n",
              "      <th>race</th>\n",
              "      <th>income</th>\n",
              "    </tr>\n",
              "  </thead>\n",
              "  <tbody>\n",
              "    <tr>\n",
              "      <th>0</th>\n",
              "      <td>0</td>\n",
              "      <td>Person0</td>\n",
              "      <td>36</td>\n",
              "      <td>Female</td>\n",
              "      <td>Black</td>\n",
              "      <td>55305</td>\n",
              "    </tr>\n",
              "    <tr>\n",
              "      <th>1</th>\n",
              "      <td>1</td>\n",
              "      <td>Person1</td>\n",
              "      <td>37</td>\n",
              "      <td>Male</td>\n",
              "      <td>Asian</td>\n",
              "      <td>59715</td>\n",
              "    </tr>\n",
              "    <tr>\n",
              "      <th>2</th>\n",
              "      <td>2</td>\n",
              "      <td>Person2</td>\n",
              "      <td>24</td>\n",
              "      <td>Male</td>\n",
              "      <td>Asian</td>\n",
              "      <td>74294</td>\n",
              "    </tr>\n",
              "    <tr>\n",
              "      <th>3</th>\n",
              "      <td>3</td>\n",
              "      <td>Person3</td>\n",
              "      <td>21</td>\n",
              "      <td>Male</td>\n",
              "      <td>Black</td>\n",
              "      <td>61331</td>\n",
              "    </tr>\n",
              "    <tr>\n",
              "      <th>4</th>\n",
              "      <td>4</td>\n",
              "      <td>Person4</td>\n",
              "      <td>22</td>\n",
              "      <td>Female</td>\n",
              "      <td>White</td>\n",
              "      <td>12690</td>\n",
              "    </tr>\n",
              "  </tbody>\n",
              "</table>\n",
              "</div>"
            ],
            "text/plain": [
              "   index     name  age  gender   race  income\n",
              "0      0  Person0   36  Female  Black   55305\n",
              "1      1  Person1   37    Male  Asian   59715\n",
              "2      2  Person2   24    Male  Asian   74294\n",
              "3      3  Person3   21    Male  Black   61331\n",
              "4      4  Person4   22  Female  White   12690"
            ]
          },
          "execution_count": 22,
          "metadata": {},
          "output_type": "execute_result"
        }
      ],
      "source": [
        "sql(\"\"\"SELECT * FROM df LIMIT 5\"\"\")"
      ]
    },
    {
      "cell_type": "code",
      "execution_count": 23,
      "metadata": {
        "colab": {
          "base_uri": "https://localhost:8080/",
          "height": 206
        },
        "id": "el7ie4USAa8G",
        "outputId": "221ff1c8-f22e-4cde-e685-62bedb4e937f"
      },
      "outputs": [
        {
          "data": {
            "text/html": [
              "<div>\n",
              "<style scoped>\n",
              "    .dataframe tbody tr th:only-of-type {\n",
              "        vertical-align: middle;\n",
              "    }\n",
              "\n",
              "    .dataframe tbody tr th {\n",
              "        vertical-align: top;\n",
              "    }\n",
              "\n",
              "    .dataframe thead th {\n",
              "        text-align: right;\n",
              "    }\n",
              "</style>\n",
              "<table border=\"1\" class=\"dataframe\">\n",
              "  <thead>\n",
              "    <tr style=\"text-align: right;\">\n",
              "      <th></th>\n",
              "      <th>index</th>\n",
              "      <th>real_name</th>\n",
              "      <th>code_name</th>\n",
              "    </tr>\n",
              "  </thead>\n",
              "  <tbody>\n",
              "    <tr>\n",
              "      <th>0</th>\n",
              "      <td>0</td>\n",
              "      <td>Frank Smith</td>\n",
              "      <td>Person0</td>\n",
              "    </tr>\n",
              "    <tr>\n",
              "      <th>1</th>\n",
              "      <td>1</td>\n",
              "      <td>Tony Adams</td>\n",
              "      <td>Person1</td>\n",
              "    </tr>\n",
              "    <tr>\n",
              "      <th>2</th>\n",
              "      <td>2</td>\n",
              "      <td>Amanda Appleseed</td>\n",
              "      <td>Person2</td>\n",
              "    </tr>\n",
              "    <tr>\n",
              "      <th>3</th>\n",
              "      <td>3</td>\n",
              "      <td>Robert Johnson</td>\n",
              "      <td>Person3</td>\n",
              "    </tr>\n",
              "    <tr>\n",
              "      <th>4</th>\n",
              "      <td>4</td>\n",
              "      <td>Julia White</td>\n",
              "      <td>Person4</td>\n",
              "    </tr>\n",
              "  </tbody>\n",
              "</table>\n",
              "</div>"
            ],
            "text/plain": [
              "   index         real_name code_name\n",
              "0      0       Frank Smith   Person0\n",
              "1      1        Tony Adams   Person1\n",
              "2      2  Amanda Appleseed   Person2\n",
              "3      3    Robert Johnson   Person3\n",
              "4      4       Julia White   Person4"
            ]
          },
          "execution_count": 23,
          "metadata": {},
          "output_type": "execute_result"
        }
      ],
      "source": [
        "sql(\"\"\"SELECT * FROM code_names LIMIT 5\"\"\")"
      ]
    },
    {
      "cell_type": "markdown",
      "metadata": {
        "id": "thnpTv0YDb0z"
      },
      "source": [
        "This query counts the number of rows in the \"df\" table and returns a single value representing the total row count. It provides a quick way to retrieve the size of the DataFrame stored in the SQLite database."
      ]
    },
    {
      "cell_type": "code",
      "execution_count": 24,
      "metadata": {
        "colab": {
          "base_uri": "https://localhost:8080/",
          "height": 81
        },
        "id": "QbenW6vE1KTs",
        "outputId": "8781054a-fa76-46f7-f23d-f212c62bc42a"
      },
      "outputs": [
        {
          "data": {
            "text/html": [
              "<div>\n",
              "<style scoped>\n",
              "    .dataframe tbody tr th:only-of-type {\n",
              "        vertical-align: middle;\n",
              "    }\n",
              "\n",
              "    .dataframe tbody tr th {\n",
              "        vertical-align: top;\n",
              "    }\n",
              "\n",
              "    .dataframe thead th {\n",
              "        text-align: right;\n",
              "    }\n",
              "</style>\n",
              "<table border=\"1\" class=\"dataframe\">\n",
              "  <thead>\n",
              "    <tr style=\"text-align: right;\">\n",
              "      <th></th>\n",
              "      <th>count(*)</th>\n",
              "    </tr>\n",
              "  </thead>\n",
              "  <tbody>\n",
              "    <tr>\n",
              "      <th>0</th>\n",
              "      <td>60</td>\n",
              "    </tr>\n",
              "  </tbody>\n",
              "</table>\n",
              "</div>"
            ],
            "text/plain": [
              "   count(*)\n",
              "0        60"
            ]
          },
          "execution_count": 24,
          "metadata": {},
          "output_type": "execute_result"
        }
      ],
      "source": [
        "sql('SELECT count(*) FROM df;')"
      ]
    },
    {
      "cell_type": "markdown",
      "metadata": {
        "id": "KttB7phrDdfU"
      },
      "source": [
        "This query is a pragma statement in SQLite that retrieves information about the columns (fields) of the \"df\" table. It returns a result set with details such as the column name, data type, whether the column can contain NULL values, and the default value, providing insights into the structure of the DataFrame stored in the SQLite database."
      ]
    },
    {
      "cell_type": "code",
      "execution_count": 25,
      "metadata": {
        "colab": {
          "base_uri": "https://localhost:8080/",
          "height": 237
        },
        "id": "VH8Z-ThU0rlr",
        "outputId": "005249b2-4cac-4c1c-b4ec-d9b6d6f2d8e6"
      },
      "outputs": [
        {
          "data": {
            "text/html": [
              "<div>\n",
              "<style scoped>\n",
              "    .dataframe tbody tr th:only-of-type {\n",
              "        vertical-align: middle;\n",
              "    }\n",
              "\n",
              "    .dataframe tbody tr th {\n",
              "        vertical-align: top;\n",
              "    }\n",
              "\n",
              "    .dataframe thead th {\n",
              "        text-align: right;\n",
              "    }\n",
              "</style>\n",
              "<table border=\"1\" class=\"dataframe\">\n",
              "  <thead>\n",
              "    <tr style=\"text-align: right;\">\n",
              "      <th></th>\n",
              "      <th>cid</th>\n",
              "      <th>name</th>\n",
              "      <th>type</th>\n",
              "      <th>notnull</th>\n",
              "      <th>dflt_value</th>\n",
              "      <th>pk</th>\n",
              "    </tr>\n",
              "  </thead>\n",
              "  <tbody>\n",
              "    <tr>\n",
              "      <th>0</th>\n",
              "      <td>0</td>\n",
              "      <td>index</td>\n",
              "      <td>INTEGER</td>\n",
              "      <td>0</td>\n",
              "      <td>None</td>\n",
              "      <td>0</td>\n",
              "    </tr>\n",
              "    <tr>\n",
              "      <th>1</th>\n",
              "      <td>1</td>\n",
              "      <td>name</td>\n",
              "      <td>TEXT</td>\n",
              "      <td>0</td>\n",
              "      <td>None</td>\n",
              "      <td>0</td>\n",
              "    </tr>\n",
              "    <tr>\n",
              "      <th>2</th>\n",
              "      <td>2</td>\n",
              "      <td>age</td>\n",
              "      <td>INTEGER</td>\n",
              "      <td>0</td>\n",
              "      <td>None</td>\n",
              "      <td>0</td>\n",
              "    </tr>\n",
              "    <tr>\n",
              "      <th>3</th>\n",
              "      <td>3</td>\n",
              "      <td>gender</td>\n",
              "      <td>TEXT</td>\n",
              "      <td>0</td>\n",
              "      <td>None</td>\n",
              "      <td>0</td>\n",
              "    </tr>\n",
              "    <tr>\n",
              "      <th>4</th>\n",
              "      <td>4</td>\n",
              "      <td>race</td>\n",
              "      <td>TEXT</td>\n",
              "      <td>0</td>\n",
              "      <td>None</td>\n",
              "      <td>0</td>\n",
              "    </tr>\n",
              "    <tr>\n",
              "      <th>5</th>\n",
              "      <td>5</td>\n",
              "      <td>income</td>\n",
              "      <td>INTEGER</td>\n",
              "      <td>0</td>\n",
              "      <td>None</td>\n",
              "      <td>0</td>\n",
              "    </tr>\n",
              "  </tbody>\n",
              "</table>\n",
              "</div>"
            ],
            "text/plain": [
              "   cid    name     type  notnull dflt_value  pk\n",
              "0    0   index  INTEGER        0       None   0\n",
              "1    1    name     TEXT        0       None   0\n",
              "2    2     age  INTEGER        0       None   0\n",
              "3    3  gender     TEXT        0       None   0\n",
              "4    4    race     TEXT        0       None   0\n",
              "5    5  income  INTEGER        0       None   0"
            ]
          },
          "execution_count": 25,
          "metadata": {},
          "output_type": "execute_result"
        }
      ],
      "source": [
        "sql('PRAGMA table_info(df);')"
      ]
    },
    {
      "cell_type": "markdown",
      "metadata": {
        "id": "TjrM7Xm_DrM1"
      },
      "source": [
        "This query retrieves distinct values from the 'age' column of the \"df\" table, limiting the result to the first 5 unique values. It provides a sample of unique age values present in the DataFrame, allowing you to examine a subset of distinct ages within the dataset."
      ]
    },
    {
      "cell_type": "code",
      "execution_count": 26,
      "metadata": {
        "colab": {
          "base_uri": "https://localhost:8080/",
          "height": 206
        },
        "id": "fbMHPkBLx4P5",
        "outputId": "4985e6b1-0882-45dd-8109-8bd79d4eadac"
      },
      "outputs": [
        {
          "data": {
            "text/html": [
              "<div>\n",
              "<style scoped>\n",
              "    .dataframe tbody tr th:only-of-type {\n",
              "        vertical-align: middle;\n",
              "    }\n",
              "\n",
              "    .dataframe tbody tr th {\n",
              "        vertical-align: top;\n",
              "    }\n",
              "\n",
              "    .dataframe thead th {\n",
              "        text-align: right;\n",
              "    }\n",
              "</style>\n",
              "<table border=\"1\" class=\"dataframe\">\n",
              "  <thead>\n",
              "    <tr style=\"text-align: right;\">\n",
              "      <th></th>\n",
              "      <th>age</th>\n",
              "    </tr>\n",
              "  </thead>\n",
              "  <tbody>\n",
              "    <tr>\n",
              "      <th>0</th>\n",
              "      <td>36</td>\n",
              "    </tr>\n",
              "    <tr>\n",
              "      <th>1</th>\n",
              "      <td>37</td>\n",
              "    </tr>\n",
              "    <tr>\n",
              "      <th>2</th>\n",
              "      <td>24</td>\n",
              "    </tr>\n",
              "    <tr>\n",
              "      <th>3</th>\n",
              "      <td>21</td>\n",
              "    </tr>\n",
              "    <tr>\n",
              "      <th>4</th>\n",
              "      <td>22</td>\n",
              "    </tr>\n",
              "  </tbody>\n",
              "</table>\n",
              "</div>"
            ],
            "text/plain": [
              "   age\n",
              "0   36\n",
              "1   37\n",
              "2   24\n",
              "3   21\n",
              "4   22"
            ]
          },
          "execution_count": 26,
          "metadata": {},
          "output_type": "execute_result"
        }
      ],
      "source": [
        "sql(\"SELECT DISTINCT age FROM df LIMIT 5\")"
      ]
    },
    {
      "cell_type": "markdown",
      "metadata": {
        "id": "VK316vurD4ef"
      },
      "source": [
        "This query retrieves all columns (*) from the \"df\" table where the 'age' column values are greater than 60. It filters the data to include only rows where the age exceeds 60, providing a subset of the DataFrame with individuals who are older than 60 years.\n"
      ]
    },
    {
      "cell_type": "code",
      "execution_count": 27,
      "metadata": {
        "colab": {
          "base_uri": "https://localhost:8080/",
          "height": 363
        },
        "id": "BhbUupfg2ZKq",
        "outputId": "b3ca8a6c-2bac-4af2-cd7e-7ba6e22caa39"
      },
      "outputs": [
        {
          "data": {
            "text/html": [
              "<div>\n",
              "<style scoped>\n",
              "    .dataframe tbody tr th:only-of-type {\n",
              "        vertical-align: middle;\n",
              "    }\n",
              "\n",
              "    .dataframe tbody tr th {\n",
              "        vertical-align: top;\n",
              "    }\n",
              "\n",
              "    .dataframe thead th {\n",
              "        text-align: right;\n",
              "    }\n",
              "</style>\n",
              "<table border=\"1\" class=\"dataframe\">\n",
              "  <thead>\n",
              "    <tr style=\"text-align: right;\">\n",
              "      <th></th>\n",
              "      <th>index</th>\n",
              "      <th>name</th>\n",
              "      <th>age</th>\n",
              "      <th>gender</th>\n",
              "      <th>race</th>\n",
              "      <th>income</th>\n",
              "    </tr>\n",
              "  </thead>\n",
              "  <tbody>\n",
              "    <tr>\n",
              "      <th>0</th>\n",
              "      <td>14</td>\n",
              "      <td>Person14</td>\n",
              "      <td>62</td>\n",
              "      <td>Male</td>\n",
              "      <td>Asian</td>\n",
              "      <td>43973</td>\n",
              "    </tr>\n",
              "    <tr>\n",
              "      <th>1</th>\n",
              "      <td>31</td>\n",
              "      <td>Person31</td>\n",
              "      <td>64</td>\n",
              "      <td>Male</td>\n",
              "      <td>Asian</td>\n",
              "      <td>59648</td>\n",
              "    </tr>\n",
              "    <tr>\n",
              "      <th>2</th>\n",
              "      <td>34</td>\n",
              "      <td>Person34</td>\n",
              "      <td>61</td>\n",
              "      <td>Male</td>\n",
              "      <td>White</td>\n",
              "      <td>23457</td>\n",
              "    </tr>\n",
              "    <tr>\n",
              "      <th>3</th>\n",
              "      <td>41</td>\n",
              "      <td>Person41</td>\n",
              "      <td>61</td>\n",
              "      <td>Male</td>\n",
              "      <td>Asian</td>\n",
              "      <td>16742</td>\n",
              "    </tr>\n",
              "    <tr>\n",
              "      <th>4</th>\n",
              "      <td>55</td>\n",
              "      <td>Person55</td>\n",
              "      <td>62</td>\n",
              "      <td>Male</td>\n",
              "      <td>Other</td>\n",
              "      <td>72575</td>\n",
              "    </tr>\n",
              "  </tbody>\n",
              "</table>\n",
              "</div>"
            ],
            "text/plain": [
              "   index      name  age gender   race  income\n",
              "0     14  Person14   62   Male  Asian   43973\n",
              "1     31  Person31   64   Male  Asian   59648\n",
              "2     34  Person34   61   Male  White   23457\n",
              "3     41  Person41   61   Male  Asian   16742\n",
              "4     55  Person55   62   Male  Other   72575"
            ]
          },
          "execution_count": 27,
          "metadata": {},
          "output_type": "execute_result"
        }
      ],
      "source": [
        "sql(\"SELECT * FROM df WHERE age > 60\")"
      ]
    },
    {
      "cell_type": "markdown",
      "metadata": {
        "id": "1YWbrB1fEFUM"
      },
      "source": [
        "This query retrieves all columns (*) from the \"df\" table where both conditions are met: the 'age' column values are greater than 60, and the 'income' column values are greater than 60000. It filters the data to include rows where individuals are older than 60 and have an income exceeding $60,000, providing a subset of the DataFrame that satisfies both criteria."
      ]
    },
    {
      "cell_type": "code",
      "execution_count": 28,
      "metadata": {
        "colab": {
          "base_uri": "https://localhost:8080/",
          "height": 143
        },
        "id": "q8YBsvJp2nBu",
        "outputId": "b1cbee97-fc5d-48de-8f02-0819977891ed"
      },
      "outputs": [
        {
          "data": {
            "text/html": [
              "<div>\n",
              "<style scoped>\n",
              "    .dataframe tbody tr th:only-of-type {\n",
              "        vertical-align: middle;\n",
              "    }\n",
              "\n",
              "    .dataframe tbody tr th {\n",
              "        vertical-align: top;\n",
              "    }\n",
              "\n",
              "    .dataframe thead th {\n",
              "        text-align: right;\n",
              "    }\n",
              "</style>\n",
              "<table border=\"1\" class=\"dataframe\">\n",
              "  <thead>\n",
              "    <tr style=\"text-align: right;\">\n",
              "      <th></th>\n",
              "      <th>index</th>\n",
              "      <th>name</th>\n",
              "      <th>age</th>\n",
              "      <th>gender</th>\n",
              "      <th>race</th>\n",
              "      <th>income</th>\n",
              "    </tr>\n",
              "  </thead>\n",
              "  <tbody>\n",
              "    <tr>\n",
              "      <th>0</th>\n",
              "      <td>55</td>\n",
              "      <td>Person55</td>\n",
              "      <td>62</td>\n",
              "      <td>Male</td>\n",
              "      <td>Other</td>\n",
              "      <td>72575</td>\n",
              "    </tr>\n",
              "  </tbody>\n",
              "</table>\n",
              "</div>"
            ],
            "text/plain": [
              "   index      name  age gender   race  income\n",
              "0     55  Person55   62   Male  Other   72575"
            ]
          },
          "execution_count": 28,
          "metadata": {},
          "output_type": "execute_result"
        }
      ],
      "source": [
        "sql('SELECT * FROM df WHERE age > 60 AND income > 60000')"
      ]
    },
    {
      "cell_type": "markdown",
      "metadata": {
        "id": "1f-hOYESEYON"
      },
      "source": [
        "This query retrieves all columns (*) from the \"df\" table where the conditions are met: the 'gender' column values are 'Male', the 'race' column values are 'Black', and the 'income' column values are greater than 40000. It filters the data to include rows where individuals are Male, belong to the Black race, and have an income exceeding $40,000, providing a subset of the DataFrame that satisfies all specified criteria."
      ]
    },
    {
      "cell_type": "code",
      "execution_count": 29,
      "metadata": {
        "colab": {
          "base_uri": "https://localhost:8080/",
          "height": 175
        },
        "id": "gzW1wg2t2yAf",
        "outputId": "5ce7a09b-0d57-4f80-d85d-42ec768d8975"
      },
      "outputs": [
        {
          "data": {
            "text/html": [
              "<div>\n",
              "<style scoped>\n",
              "    .dataframe tbody tr th:only-of-type {\n",
              "        vertical-align: middle;\n",
              "    }\n",
              "\n",
              "    .dataframe tbody tr th {\n",
              "        vertical-align: top;\n",
              "    }\n",
              "\n",
              "    .dataframe thead th {\n",
              "        text-align: right;\n",
              "    }\n",
              "</style>\n",
              "<table border=\"1\" class=\"dataframe\">\n",
              "  <thead>\n",
              "    <tr style=\"text-align: right;\">\n",
              "      <th></th>\n",
              "      <th>index</th>\n",
              "      <th>name</th>\n",
              "      <th>age</th>\n",
              "      <th>gender</th>\n",
              "      <th>race</th>\n",
              "      <th>income</th>\n",
              "    </tr>\n",
              "  </thead>\n",
              "  <tbody>\n",
              "    <tr>\n",
              "      <th>0</th>\n",
              "      <td>3</td>\n",
              "      <td>Person3</td>\n",
              "      <td>21</td>\n",
              "      <td>Male</td>\n",
              "      <td>Black</td>\n",
              "      <td>61331</td>\n",
              "    </tr>\n",
              "    <tr>\n",
              "      <th>1</th>\n",
              "      <td>40</td>\n",
              "      <td>Person40</td>\n",
              "      <td>47</td>\n",
              "      <td>Male</td>\n",
              "      <td>Black</td>\n",
              "      <td>63698</td>\n",
              "    </tr>\n",
              "    <tr>\n",
              "      <th>2</th>\n",
              "      <td>46</td>\n",
              "      <td>Person46</td>\n",
              "      <td>44</td>\n",
              "      <td>Male</td>\n",
              "      <td>Black</td>\n",
              "      <td>72304</td>\n",
              "    </tr>\n",
              "    <tr>\n",
              "      <th>3</th>\n",
              "      <td>49</td>\n",
              "      <td>Person49</td>\n",
              "      <td>59</td>\n",
              "      <td>Male</td>\n",
              "      <td>Black</td>\n",
              "      <td>57967</td>\n",
              "    </tr>\n",
              "  </tbody>\n",
              "</table>\n",
              "</div>"
            ],
            "text/plain": [
              "   index      name  age gender   race  income\n",
              "0      3   Person3   21   Male  Black   61331\n",
              "1     40  Person40   47   Male  Black   63698\n",
              "2     46  Person46   44   Male  Black   72304\n",
              "3     49  Person49   59   Male  Black   57967"
            ]
          },
          "execution_count": 29,
          "metadata": {},
          "output_type": "execute_result"
        }
      ],
      "source": [
        "sql(\"SELECT * FROM df WHERE gender = 'Male' AND race = 'Black' AND income > 40000\")"
      ]
    },
    {
      "cell_type": "markdown",
      "metadata": {
        "id": "02KO34BOE1OB"
      },
      "source": [
        "# Joins"
      ]
    },
    {
      "cell_type": "markdown",
      "metadata": {
        "id": "MNCKlhdVBF6n"
      },
      "source": [
        "## df Table schema\n",
        "\n",
        "---\n",
        "| index | name | age | gender | race | income |\n",
        "|------|------|------|------|------|------|\n",
        "| 0\t| Person0 |\t62\t| Male\t| Black\t| 20794 |\n",
        "| 1 |Person1 | 60 | Male | Asian | 36256 |\n",
        "| 2 | Person2 | 64 | Female | Black | 79048 |\n",
        "| 3 | Person3\t| 53 | Female | Hispanic | 45324 |\n",
        "| 4 | Person4\t| 33 | Male | Black | 29210 |\n",
        "\n"
      ]
    },
    {
      "cell_type": "markdown",
      "metadata": {
        "id": "w6LlkKOdBKXk"
      },
      "source": [
        "## code_names Table Schema\n",
        "\n",
        "\n",
        "---\n",
        "\n",
        "\n",
        "\n",
        "| index | real_name | code_name |\n",
        "|-------|-----------|-----------|\n",
        "|\t0 | Frank Smith | Person0 |\n",
        "| 1 | Tony Adams | Person1 |\n",
        "| 2 | Amanda Appleseed | Person2 |\n",
        "| 3 | Robert Johnson | Person3 |\n",
        "| 4 | Julia White | Person4 |"
      ]
    },
    {
      "cell_type": "markdown",
      "metadata": {
        "id": "_tGFe_JRE52q"
      },
      "source": [
        "This selects all columns from the \"df\" table (df.*) and the 'real_name' column from the \"code_names\" table. The JOIN is performed based on the equality of the 'name' column in \"df\" and the 'code_name' column in \"code_names.\" The result is limited to the first 5 rows. This query combines information from both tables where the names match, providing a unified view of the data that includes the 'real_name' column from the \"code_names\" table.\n",
        "\n",
        "\n",
        "\n",
        "\n",
        "\n"
      ]
    },
    {
      "cell_type": "code",
      "execution_count": 30,
      "metadata": {
        "colab": {
          "base_uri": "https://localhost:8080/",
          "height": 206
        },
        "id": "8hAvqpoM7_e7",
        "outputId": "024814b6-7fa1-477e-a228-5afdf8b42865"
      },
      "outputs": [
        {
          "data": {
            "text/html": [
              "<div>\n",
              "<style scoped>\n",
              "    .dataframe tbody tr th:only-of-type {\n",
              "        vertical-align: middle;\n",
              "    }\n",
              "\n",
              "    .dataframe tbody tr th {\n",
              "        vertical-align: top;\n",
              "    }\n",
              "\n",
              "    .dataframe thead th {\n",
              "        text-align: right;\n",
              "    }\n",
              "</style>\n",
              "<table border=\"1\" class=\"dataframe\">\n",
              "  <thead>\n",
              "    <tr style=\"text-align: right;\">\n",
              "      <th></th>\n",
              "      <th>index</th>\n",
              "      <th>name</th>\n",
              "      <th>age</th>\n",
              "      <th>gender</th>\n",
              "      <th>race</th>\n",
              "      <th>income</th>\n",
              "      <th>real_name</th>\n",
              "    </tr>\n",
              "  </thead>\n",
              "  <tbody>\n",
              "    <tr>\n",
              "      <th>0</th>\n",
              "      <td>0</td>\n",
              "      <td>Person0</td>\n",
              "      <td>36</td>\n",
              "      <td>Female</td>\n",
              "      <td>Black</td>\n",
              "      <td>55305</td>\n",
              "      <td>Frank Smith</td>\n",
              "    </tr>\n",
              "    <tr>\n",
              "      <th>1</th>\n",
              "      <td>1</td>\n",
              "      <td>Person1</td>\n",
              "      <td>37</td>\n",
              "      <td>Male</td>\n",
              "      <td>Asian</td>\n",
              "      <td>59715</td>\n",
              "      <td>Tony Adams</td>\n",
              "    </tr>\n",
              "    <tr>\n",
              "      <th>2</th>\n",
              "      <td>2</td>\n",
              "      <td>Person2</td>\n",
              "      <td>24</td>\n",
              "      <td>Male</td>\n",
              "      <td>Asian</td>\n",
              "      <td>74294</td>\n",
              "      <td>Amanda Appleseed</td>\n",
              "    </tr>\n",
              "    <tr>\n",
              "      <th>3</th>\n",
              "      <td>3</td>\n",
              "      <td>Person3</td>\n",
              "      <td>21</td>\n",
              "      <td>Male</td>\n",
              "      <td>Black</td>\n",
              "      <td>61331</td>\n",
              "      <td>Robert Johnson</td>\n",
              "    </tr>\n",
              "    <tr>\n",
              "      <th>4</th>\n",
              "      <td>4</td>\n",
              "      <td>Person4</td>\n",
              "      <td>22</td>\n",
              "      <td>Female</td>\n",
              "      <td>White</td>\n",
              "      <td>12690</td>\n",
              "      <td>Julia White</td>\n",
              "    </tr>\n",
              "  </tbody>\n",
              "</table>\n",
              "</div>"
            ],
            "text/plain": [
              "   index     name  age  gender   race  income         real_name\n",
              "0      0  Person0   36  Female  Black   55305       Frank Smith\n",
              "1      1  Person1   37    Male  Asian   59715        Tony Adams\n",
              "2      2  Person2   24    Male  Asian   74294  Amanda Appleseed\n",
              "3      3  Person3   21    Male  Black   61331    Robert Johnson\n",
              "4      4  Person4   22  Female  White   12690       Julia White"
            ]
          },
          "execution_count": 30,
          "metadata": {},
          "output_type": "execute_result"
        }
      ],
      "source": [
        "sql(\"\"\"\n",
        "SELECT df.*, code_names.real_name\n",
        "FROM df\n",
        "JOIN code_names\n",
        "ON df.name = code_names.code_name\n",
        "LIMIT 5\n",
        "\"\"\")"
      ]
    },
    {
      "cell_type": "markdown",
      "metadata": {
        "id": "eS45oCLNFM2h"
      },
      "source": [
        "The SQL query selects specific columns ('code_name', 'real_name', 'age', 'gender', 'income', 'race') from the combined result of the \"df\" and \"code_names\" tables. The JOIN operation is performed based on the equality of the 'name' column in the \"df\" table and the 'code_name' column in the \"code_names\" table. The result is limited to the first 5 rows, providing a subset of the combined data with the specified columns from both tables. This query combines information from both tables where the names match, creating a unified view with selected columns."
      ]
    },
    {
      "cell_type": "code",
      "execution_count": 31,
      "metadata": {
        "colab": {
          "base_uri": "https://localhost:8080/",
          "height": 206
        },
        "id": "X7kPhfmG7x4A",
        "outputId": "65dcf22a-42c1-4fd6-cde5-8882fe6846ce"
      },
      "outputs": [
        {
          "data": {
            "text/html": [
              "<div>\n",
              "<style scoped>\n",
              "    .dataframe tbody tr th:only-of-type {\n",
              "        vertical-align: middle;\n",
              "    }\n",
              "\n",
              "    .dataframe tbody tr th {\n",
              "        vertical-align: top;\n",
              "    }\n",
              "\n",
              "    .dataframe thead th {\n",
              "        text-align: right;\n",
              "    }\n",
              "</style>\n",
              "<table border=\"1\" class=\"dataframe\">\n",
              "  <thead>\n",
              "    <tr style=\"text-align: right;\">\n",
              "      <th></th>\n",
              "      <th>code_name</th>\n",
              "      <th>real_name</th>\n",
              "      <th>age</th>\n",
              "      <th>gender</th>\n",
              "      <th>income</th>\n",
              "      <th>race</th>\n",
              "    </tr>\n",
              "  </thead>\n",
              "  <tbody>\n",
              "    <tr>\n",
              "      <th>0</th>\n",
              "      <td>Person0</td>\n",
              "      <td>Frank Smith</td>\n",
              "      <td>36</td>\n",
              "      <td>Female</td>\n",
              "      <td>55305</td>\n",
              "      <td>Black</td>\n",
              "    </tr>\n",
              "    <tr>\n",
              "      <th>1</th>\n",
              "      <td>Person1</td>\n",
              "      <td>Tony Adams</td>\n",
              "      <td>37</td>\n",
              "      <td>Male</td>\n",
              "      <td>59715</td>\n",
              "      <td>Asian</td>\n",
              "    </tr>\n",
              "    <tr>\n",
              "      <th>2</th>\n",
              "      <td>Person2</td>\n",
              "      <td>Amanda Appleseed</td>\n",
              "      <td>24</td>\n",
              "      <td>Male</td>\n",
              "      <td>74294</td>\n",
              "      <td>Asian</td>\n",
              "    </tr>\n",
              "    <tr>\n",
              "      <th>3</th>\n",
              "      <td>Person3</td>\n",
              "      <td>Robert Johnson</td>\n",
              "      <td>21</td>\n",
              "      <td>Male</td>\n",
              "      <td>61331</td>\n",
              "      <td>Black</td>\n",
              "    </tr>\n",
              "    <tr>\n",
              "      <th>4</th>\n",
              "      <td>Person4</td>\n",
              "      <td>Julia White</td>\n",
              "      <td>22</td>\n",
              "      <td>Female</td>\n",
              "      <td>12690</td>\n",
              "      <td>White</td>\n",
              "    </tr>\n",
              "  </tbody>\n",
              "</table>\n",
              "</div>"
            ],
            "text/plain": [
              "  code_name         real_name  age  gender  income   race\n",
              "0   Person0       Frank Smith   36  Female   55305  Black\n",
              "1   Person1        Tony Adams   37    Male   59715  Asian\n",
              "2   Person2  Amanda Appleseed   24    Male   74294  Asian\n",
              "3   Person3    Robert Johnson   21    Male   61331  Black\n",
              "4   Person4       Julia White   22  Female   12690  White"
            ]
          },
          "execution_count": 31,
          "metadata": {},
          "output_type": "execute_result"
        }
      ],
      "source": [
        "sql(\"\"\"\n",
        "SELECT code_name, real_name, age, gender, income, race\n",
        "FROM df JOIN code_names ON df.name = code_names.code_name\n",
        "LIMIT 5\n",
        "\"\"\")"
      ]
    },
    {
      "cell_type": "markdown",
      "metadata": {
        "id": "rCa_D1w5FgCq"
      },
      "source": [
        "This SQL query retrieves specific columns ('code_name', 'real_name', 'age', 'gender', 'income', 'race') from the combined result of the \"df\" and \"code_names\" tables. The JOIN operation is based on the equality of the 'name' column in \"df\" and the 'code_name' column in \"code_names.\" The query includes conditions to filter the data: age less than 60, income less than $50,000, gender is 'Female', and race is 'Asian.' The results are sorted in descending order by income, and the query returns the top 5 rows meeting these criteria."
      ]
    },
    {
      "cell_type": "code",
      "execution_count": 32,
      "metadata": {
        "colab": {
          "base_uri": "https://localhost:8080/",
          "height": 143
        },
        "id": "yBMho9Be7lMF",
        "outputId": "dbd4f64a-6def-4869-a1f3-bdd8dcb7c182"
      },
      "outputs": [
        {
          "data": {
            "text/html": [
              "<div>\n",
              "<style scoped>\n",
              "    .dataframe tbody tr th:only-of-type {\n",
              "        vertical-align: middle;\n",
              "    }\n",
              "\n",
              "    .dataframe tbody tr th {\n",
              "        vertical-align: top;\n",
              "    }\n",
              "\n",
              "    .dataframe thead th {\n",
              "        text-align: right;\n",
              "    }\n",
              "</style>\n",
              "<table border=\"1\" class=\"dataframe\">\n",
              "  <thead>\n",
              "    <tr style=\"text-align: right;\">\n",
              "      <th></th>\n",
              "      <th>code_name</th>\n",
              "      <th>real_name</th>\n",
              "      <th>age</th>\n",
              "      <th>gender</th>\n",
              "      <th>income</th>\n",
              "      <th>race</th>\n",
              "    </tr>\n",
              "  </thead>\n",
              "  <tbody>\n",
              "    <tr>\n",
              "      <th>0</th>\n",
              "      <td>Person8</td>\n",
              "      <td>Emily Turner</td>\n",
              "      <td>25</td>\n",
              "      <td>Female</td>\n",
              "      <td>15370</td>\n",
              "      <td>Asian</td>\n",
              "    </tr>\n",
              "  </tbody>\n",
              "</table>\n",
              "</div>"
            ],
            "text/plain": [
              "  code_name     real_name  age  gender  income   race\n",
              "0   Person8  Emily Turner   25  Female   15370  Asian"
            ]
          },
          "execution_count": 32,
          "metadata": {},
          "output_type": "execute_result"
        }
      ],
      "source": [
        "sql(\"\"\"\n",
        "SELECT code_name, real_name, age, gender, income, race\n",
        "FROM df\n",
        "JOIN code_names\n",
        "ON df.name = code_names.code_name\n",
        "WHERE age < 60\n",
        "AND income < 50000\n",
        "AND gender = 'Female'\n",
        "AND race = 'Asian'\n",
        "ORDER BY income DESC\n",
        "LIMIT 5\n",
        "\"\"\")\n"
      ]
    }
  ],
  "metadata": {
    "colab": {
      "authorship_tag": "ABX9TyOcM1L4OeHiYYsUVNadEHIH",
      "include_colab_link": true,
      "provenance": []
    },
    "kernelspec": {
      "display_name": "Python 3",
      "name": "python3"
    },
    "language_info": {
      "codemirror_mode": {
        "name": "ipython",
        "version": 3
      },
      "file_extension": ".py",
      "mimetype": "text/x-python",
      "name": "python",
      "nbconvert_exporter": "python",
      "pygments_lexer": "ipython3",
      "version": "3.10.5"
    }
  },
  "nbformat": 4,
  "nbformat_minor": 0
}
