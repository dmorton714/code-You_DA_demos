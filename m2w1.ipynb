{
  "nbformat": 4,
  "nbformat_minor": 0,
  "metadata": {
    "colab": {
      "provenance": [],
      "authorship_tag": "ABX9TyPMWocuKugWPyYtbFO6/9ot",
      "include_colab_link": true
    },
    "kernelspec": {
      "name": "python3",
      "display_name": "Python 3"
    },
    "language_info": {
      "name": "python"
    }
  },
  "cells": [
    {
      "cell_type": "markdown",
      "metadata": {
        "id": "view-in-github",
        "colab_type": "text"
      },
      "source": [
        "<a href=\"https://colab.research.google.com/github/dmorton714/code-You_DA_demos/blob/main/m2w1.ipynb\" target=\"_parent\"><img src=\"https://colab.research.google.com/assets/colab-badge.svg\" alt=\"Open In Colab\"/></a>"
      ]
    },
    {
      "cell_type": "code",
      "execution_count": null,
      "metadata": {
        "id": "ekrFgtBzzgsW"
      },
      "outputs": [],
      "source": [
        "import pandas as pd\n",
        "import requests\n",
        "import json\n",
        "from bs4 import BeautifulSoup"
      ]
    },
    {
      "cell_type": "markdown",
      "source": [
        "# Local file import"
      ],
      "metadata": {
        "id": "HTZ3N5rWM_AT"
      }
    },
    {
      "cell_type": "code",
      "source": [
        "local_file = pd.read_csv('')"
      ],
      "metadata": {
        "id": "NpPoBqc5NDEI"
      },
      "execution_count": null,
      "outputs": []
    },
    {
      "cell_type": "markdown",
      "source": [
        "## Basic API Call"
      ],
      "metadata": {
        "id": "Gho5C2J267IX"
      }
    },
    {
      "cell_type": "markdown",
      "source": [
        "Data from: https://pipedream.com/@pravin/http-api-for-latest-wuhan-coronavirus-data-2019-ncov-p_G6CLVM/readme\n",
        "\n",
        "### **The API returns:**\n",
        "\n",
        "*   **Summary stats** (count of cases, recoveries and deaths)\n",
        "\n",
        "    *   Global\n",
        "    *   Mainland China\n",
        "    *   Non-Mainland China\n",
        "\n",
        "* **Raw data** (counts by region as published in the Google Sheet)\n",
        "\n",
        "* **Metadata** (including when data was last published and the cache status)"
      ],
      "metadata": {
        "id": "mSbAUP486_uz"
      }
    },
    {
      "cell_type": "markdown",
      "source": [
        "- Line 1 defines the URL that will be used for the HTTP GET request.\n",
        "- Line 2 sends an HTTP GET request to the specified URL using the get method from the requests library. The response is stored in the variable r.\n",
        "- Line 3 outputs the r variable, representing the response from the server."
      ],
      "metadata": {
        "id": "cn0lh3Jr-2qL"
      }
    },
    {
      "cell_type": "code",
      "source": [
        "url = \"https://coronavirus.m.pipedream.net/\"\n",
        "r = requests.get(url)\n",
        "r"
      ],
      "metadata": {
        "colab": {
          "base_uri": "https://localhost:8080/"
        },
        "id": "545YHujPzlXU",
        "outputId": "715f84d1-5b14-4ed8-de7c-4ce145b3e110"
      },
      "execution_count": null,
      "outputs": [
        {
          "output_type": "execute_result",
          "data": {
            "text/plain": [
              "<Response [200]>"
            ]
          },
          "metadata": {},
          "execution_count": 61
        }
      ]
    },
    {
      "cell_type": "markdown",
      "source": [
        "The line `json = r.json()` converts the JSON-formatted content of an HTTP response (r) into a Python object, making it easier to work with and extract information from the data received from the server."
      ],
      "metadata": {
        "id": "_vOkBjJl_swf"
      }
    },
    {
      "cell_type": "code",
      "source": [
        "json = r.json()"
      ],
      "metadata": {
        "id": "_Gstk5Sb7Q8_"
      },
      "execution_count": null,
      "outputs": []
    },
    {
      "cell_type": "markdown",
      "source": [
        "`json.keys()` is used to retrieve the keys from a Python dictionary (or a JSON object) stored in the variable json. In the context of working with `JSON` responses from a server, it is common to use this expression to inspect or access the keys of the received JSON data."
      ],
      "metadata": {
        "id": "E_t_SQqDAgj3"
      }
    },
    {
      "cell_type": "code",
      "source": [
        "json.keys()"
      ],
      "metadata": {
        "colab": {
          "base_uri": "https://localhost:8080/"
        },
        "id": "LQxzPQkB7Udf",
        "outputId": "c60c2b85-4b23-42bd-a331-aa861043744a"
      },
      "execution_count": null,
      "outputs": [
        {
          "output_type": "execute_result",
          "data": {
            "text/plain": [
              "dict_keys(['summaryStats', 'cache', 'dataSource', 'apiSourceCode', 'rawData'])"
            ]
          },
          "metadata": {},
          "execution_count": 63
        }
      ]
    },
    {
      "cell_type": "markdown",
      "source": [
        "`df = pd.DataFrame(json.get('rawData', []))` this line of code creates a DataFrame (df) using the data stored under the key 'rawData' in the json dictionary. If 'rawData' is not present, an empty DataFrame is created."
      ],
      "metadata": {
        "id": "mD6Tz5kDB-0I"
      }
    },
    {
      "cell_type": "code",
      "source": [
        "df = pd.DataFrame(json.get('rawData', []))\n",
        "df.head()\n"
      ],
      "metadata": {
        "colab": {
          "base_uri": "https://localhost:8080/",
          "height": 313
        },
        "id": "JzsJR5_A7f-Y",
        "outputId": "d03db7fe-047b-4cc0-cb6e-1d1b29ac9c88"
      },
      "execution_count": null,
      "outputs": [
        {
          "output_type": "execute_result",
          "data": {
            "text/plain": [
              "  FIPS Admin2 Province_State Country_Region          Last_Update       Lat  \\\n",
              "0                               Afghanistan  2023-03-10 04:21:03  33.93911   \n",
              "1                                   Albania  2023-03-10 04:21:03   41.1533   \n",
              "2                                   Algeria  2023-03-10 04:21:03   28.0339   \n",
              "3                                   Andorra  2023-03-10 04:21:03   42.5063   \n",
              "4                                    Angola  2023-03-10 04:21:03  -11.2027   \n",
              "\n",
              "       Long_ Confirmed Deaths Recovered Active Combined_Key  \\\n",
              "0  67.709953    209451   7896                   Afghanistan   \n",
              "1    20.1683    334457   3598                       Albania   \n",
              "2     1.6596    271496   6881                       Algeria   \n",
              "3     1.5218     47890    165                       Andorra   \n",
              "4    17.8739    105288   1933                        Angola   \n",
              "\n",
              "        Incident_Rate  Case_Fatality_Ratio  \n",
              "0   538.0424508714615     3.76985547932452  \n",
              "1   11621.96817012996    1.075773567304616  \n",
              "2    619.132365905185    2.534475646050034  \n",
              "3   61981.49226687375  0.34453956984756734  \n",
              "4  320.35277020195906    1.835916723653218  "
            ],
            "text/html": [
              "\n",
              "  <div id=\"df-333b19a5-49b0-4b5f-81f9-c8cd66e024f4\" class=\"colab-df-container\">\n",
              "    <div>\n",
              "<style scoped>\n",
              "    .dataframe tbody tr th:only-of-type {\n",
              "        vertical-align: middle;\n",
              "    }\n",
              "\n",
              "    .dataframe tbody tr th {\n",
              "        vertical-align: top;\n",
              "    }\n",
              "\n",
              "    .dataframe thead th {\n",
              "        text-align: right;\n",
              "    }\n",
              "</style>\n",
              "<table border=\"1\" class=\"dataframe\">\n",
              "  <thead>\n",
              "    <tr style=\"text-align: right;\">\n",
              "      <th></th>\n",
              "      <th>FIPS</th>\n",
              "      <th>Admin2</th>\n",
              "      <th>Province_State</th>\n",
              "      <th>Country_Region</th>\n",
              "      <th>Last_Update</th>\n",
              "      <th>Lat</th>\n",
              "      <th>Long_</th>\n",
              "      <th>Confirmed</th>\n",
              "      <th>Deaths</th>\n",
              "      <th>Recovered</th>\n",
              "      <th>Active</th>\n",
              "      <th>Combined_Key</th>\n",
              "      <th>Incident_Rate</th>\n",
              "      <th>Case_Fatality_Ratio</th>\n",
              "    </tr>\n",
              "  </thead>\n",
              "  <tbody>\n",
              "    <tr>\n",
              "      <th>0</th>\n",
              "      <td></td>\n",
              "      <td></td>\n",
              "      <td></td>\n",
              "      <td>Afghanistan</td>\n",
              "      <td>2023-03-10 04:21:03</td>\n",
              "      <td>33.93911</td>\n",
              "      <td>67.709953</td>\n",
              "      <td>209451</td>\n",
              "      <td>7896</td>\n",
              "      <td></td>\n",
              "      <td></td>\n",
              "      <td>Afghanistan</td>\n",
              "      <td>538.0424508714615</td>\n",
              "      <td>3.76985547932452</td>\n",
              "    </tr>\n",
              "    <tr>\n",
              "      <th>1</th>\n",
              "      <td></td>\n",
              "      <td></td>\n",
              "      <td></td>\n",
              "      <td>Albania</td>\n",
              "      <td>2023-03-10 04:21:03</td>\n",
              "      <td>41.1533</td>\n",
              "      <td>20.1683</td>\n",
              "      <td>334457</td>\n",
              "      <td>3598</td>\n",
              "      <td></td>\n",
              "      <td></td>\n",
              "      <td>Albania</td>\n",
              "      <td>11621.96817012996</td>\n",
              "      <td>1.075773567304616</td>\n",
              "    </tr>\n",
              "    <tr>\n",
              "      <th>2</th>\n",
              "      <td></td>\n",
              "      <td></td>\n",
              "      <td></td>\n",
              "      <td>Algeria</td>\n",
              "      <td>2023-03-10 04:21:03</td>\n",
              "      <td>28.0339</td>\n",
              "      <td>1.6596</td>\n",
              "      <td>271496</td>\n",
              "      <td>6881</td>\n",
              "      <td></td>\n",
              "      <td></td>\n",
              "      <td>Algeria</td>\n",
              "      <td>619.132365905185</td>\n",
              "      <td>2.534475646050034</td>\n",
              "    </tr>\n",
              "    <tr>\n",
              "      <th>3</th>\n",
              "      <td></td>\n",
              "      <td></td>\n",
              "      <td></td>\n",
              "      <td>Andorra</td>\n",
              "      <td>2023-03-10 04:21:03</td>\n",
              "      <td>42.5063</td>\n",
              "      <td>1.5218</td>\n",
              "      <td>47890</td>\n",
              "      <td>165</td>\n",
              "      <td></td>\n",
              "      <td></td>\n",
              "      <td>Andorra</td>\n",
              "      <td>61981.49226687375</td>\n",
              "      <td>0.34453956984756734</td>\n",
              "    </tr>\n",
              "    <tr>\n",
              "      <th>4</th>\n",
              "      <td></td>\n",
              "      <td></td>\n",
              "      <td></td>\n",
              "      <td>Angola</td>\n",
              "      <td>2023-03-10 04:21:03</td>\n",
              "      <td>-11.2027</td>\n",
              "      <td>17.8739</td>\n",
              "      <td>105288</td>\n",
              "      <td>1933</td>\n",
              "      <td></td>\n",
              "      <td></td>\n",
              "      <td>Angola</td>\n",
              "      <td>320.35277020195906</td>\n",
              "      <td>1.835916723653218</td>\n",
              "    </tr>\n",
              "  </tbody>\n",
              "</table>\n",
              "</div>\n",
              "    <div class=\"colab-df-buttons\">\n",
              "\n",
              "  <div class=\"colab-df-container\">\n",
              "    <button class=\"colab-df-convert\" onclick=\"convertToInteractive('df-333b19a5-49b0-4b5f-81f9-c8cd66e024f4')\"\n",
              "            title=\"Convert this dataframe to an interactive table.\"\n",
              "            style=\"display:none;\">\n",
              "\n",
              "  <svg xmlns=\"http://www.w3.org/2000/svg\" height=\"24px\" viewBox=\"0 -960 960 960\">\n",
              "    <path d=\"M120-120v-720h720v720H120Zm60-500h600v-160H180v160Zm220 220h160v-160H400v160Zm0 220h160v-160H400v160ZM180-400h160v-160H180v160Zm440 0h160v-160H620v160ZM180-180h160v-160H180v160Zm440 0h160v-160H620v160Z\"/>\n",
              "  </svg>\n",
              "    </button>\n",
              "\n",
              "  <style>\n",
              "    .colab-df-container {\n",
              "      display:flex;\n",
              "      gap: 12px;\n",
              "    }\n",
              "\n",
              "    .colab-df-convert {\n",
              "      background-color: #E8F0FE;\n",
              "      border: none;\n",
              "      border-radius: 50%;\n",
              "      cursor: pointer;\n",
              "      display: none;\n",
              "      fill: #1967D2;\n",
              "      height: 32px;\n",
              "      padding: 0 0 0 0;\n",
              "      width: 32px;\n",
              "    }\n",
              "\n",
              "    .colab-df-convert:hover {\n",
              "      background-color: #E2EBFA;\n",
              "      box-shadow: 0px 1px 2px rgba(60, 64, 67, 0.3), 0px 1px 3px 1px rgba(60, 64, 67, 0.15);\n",
              "      fill: #174EA6;\n",
              "    }\n",
              "\n",
              "    .colab-df-buttons div {\n",
              "      margin-bottom: 4px;\n",
              "    }\n",
              "\n",
              "    [theme=dark] .colab-df-convert {\n",
              "      background-color: #3B4455;\n",
              "      fill: #D2E3FC;\n",
              "    }\n",
              "\n",
              "    [theme=dark] .colab-df-convert:hover {\n",
              "      background-color: #434B5C;\n",
              "      box-shadow: 0px 1px 3px 1px rgba(0, 0, 0, 0.15);\n",
              "      filter: drop-shadow(0px 1px 2px rgba(0, 0, 0, 0.3));\n",
              "      fill: #FFFFFF;\n",
              "    }\n",
              "  </style>\n",
              "\n",
              "    <script>\n",
              "      const buttonEl =\n",
              "        document.querySelector('#df-333b19a5-49b0-4b5f-81f9-c8cd66e024f4 button.colab-df-convert');\n",
              "      buttonEl.style.display =\n",
              "        google.colab.kernel.accessAllowed ? 'block' : 'none';\n",
              "\n",
              "      async function convertToInteractive(key) {\n",
              "        const element = document.querySelector('#df-333b19a5-49b0-4b5f-81f9-c8cd66e024f4');\n",
              "        const dataTable =\n",
              "          await google.colab.kernel.invokeFunction('convertToInteractive',\n",
              "                                                    [key], {});\n",
              "        if (!dataTable) return;\n",
              "\n",
              "        const docLinkHtml = 'Like what you see? Visit the ' +\n",
              "          '<a target=\"_blank\" href=https://colab.research.google.com/notebooks/data_table.ipynb>data table notebook</a>'\n",
              "          + ' to learn more about interactive tables.';\n",
              "        element.innerHTML = '';\n",
              "        dataTable['output_type'] = 'display_data';\n",
              "        await google.colab.output.renderOutput(dataTable, element);\n",
              "        const docLink = document.createElement('div');\n",
              "        docLink.innerHTML = docLinkHtml;\n",
              "        element.appendChild(docLink);\n",
              "      }\n",
              "    </script>\n",
              "  </div>\n",
              "\n",
              "\n",
              "<div id=\"df-65bae92f-3cce-40f6-9db2-87f139a24ac6\">\n",
              "  <button class=\"colab-df-quickchart\" onclick=\"quickchart('df-65bae92f-3cce-40f6-9db2-87f139a24ac6')\"\n",
              "            title=\"Suggest charts\"\n",
              "            style=\"display:none;\">\n",
              "\n",
              "<svg xmlns=\"http://www.w3.org/2000/svg\" height=\"24px\"viewBox=\"0 0 24 24\"\n",
              "     width=\"24px\">\n",
              "    <g>\n",
              "        <path d=\"M19 3H5c-1.1 0-2 .9-2 2v14c0 1.1.9 2 2 2h14c1.1 0 2-.9 2-2V5c0-1.1-.9-2-2-2zM9 17H7v-7h2v7zm4 0h-2V7h2v10zm4 0h-2v-4h2v4z\"/>\n",
              "    </g>\n",
              "</svg>\n",
              "  </button>\n",
              "\n",
              "<style>\n",
              "  .colab-df-quickchart {\n",
              "      --bg-color: #E8F0FE;\n",
              "      --fill-color: #1967D2;\n",
              "      --hover-bg-color: #E2EBFA;\n",
              "      --hover-fill-color: #174EA6;\n",
              "      --disabled-fill-color: #AAA;\n",
              "      --disabled-bg-color: #DDD;\n",
              "  }\n",
              "\n",
              "  [theme=dark] .colab-df-quickchart {\n",
              "      --bg-color: #3B4455;\n",
              "      --fill-color: #D2E3FC;\n",
              "      --hover-bg-color: #434B5C;\n",
              "      --hover-fill-color: #FFFFFF;\n",
              "      --disabled-bg-color: #3B4455;\n",
              "      --disabled-fill-color: #666;\n",
              "  }\n",
              "\n",
              "  .colab-df-quickchart {\n",
              "    background-color: var(--bg-color);\n",
              "    border: none;\n",
              "    border-radius: 50%;\n",
              "    cursor: pointer;\n",
              "    display: none;\n",
              "    fill: var(--fill-color);\n",
              "    height: 32px;\n",
              "    padding: 0;\n",
              "    width: 32px;\n",
              "  }\n",
              "\n",
              "  .colab-df-quickchart:hover {\n",
              "    background-color: var(--hover-bg-color);\n",
              "    box-shadow: 0 1px 2px rgba(60, 64, 67, 0.3), 0 1px 3px 1px rgba(60, 64, 67, 0.15);\n",
              "    fill: var(--button-hover-fill-color);\n",
              "  }\n",
              "\n",
              "  .colab-df-quickchart-complete:disabled,\n",
              "  .colab-df-quickchart-complete:disabled:hover {\n",
              "    background-color: var(--disabled-bg-color);\n",
              "    fill: var(--disabled-fill-color);\n",
              "    box-shadow: none;\n",
              "  }\n",
              "\n",
              "  .colab-df-spinner {\n",
              "    border: 2px solid var(--fill-color);\n",
              "    border-color: transparent;\n",
              "    border-bottom-color: var(--fill-color);\n",
              "    animation:\n",
              "      spin 1s steps(1) infinite;\n",
              "  }\n",
              "\n",
              "  @keyframes spin {\n",
              "    0% {\n",
              "      border-color: transparent;\n",
              "      border-bottom-color: var(--fill-color);\n",
              "      border-left-color: var(--fill-color);\n",
              "    }\n",
              "    20% {\n",
              "      border-color: transparent;\n",
              "      border-left-color: var(--fill-color);\n",
              "      border-top-color: var(--fill-color);\n",
              "    }\n",
              "    30% {\n",
              "      border-color: transparent;\n",
              "      border-left-color: var(--fill-color);\n",
              "      border-top-color: var(--fill-color);\n",
              "      border-right-color: var(--fill-color);\n",
              "    }\n",
              "    40% {\n",
              "      border-color: transparent;\n",
              "      border-right-color: var(--fill-color);\n",
              "      border-top-color: var(--fill-color);\n",
              "    }\n",
              "    60% {\n",
              "      border-color: transparent;\n",
              "      border-right-color: var(--fill-color);\n",
              "    }\n",
              "    80% {\n",
              "      border-color: transparent;\n",
              "      border-right-color: var(--fill-color);\n",
              "      border-bottom-color: var(--fill-color);\n",
              "    }\n",
              "    90% {\n",
              "      border-color: transparent;\n",
              "      border-bottom-color: var(--fill-color);\n",
              "    }\n",
              "  }\n",
              "</style>\n",
              "\n",
              "  <script>\n",
              "    async function quickchart(key) {\n",
              "      const quickchartButtonEl =\n",
              "        document.querySelector('#' + key + ' button');\n",
              "      quickchartButtonEl.disabled = true;  // To prevent multiple clicks.\n",
              "      quickchartButtonEl.classList.add('colab-df-spinner');\n",
              "      try {\n",
              "        const charts = await google.colab.kernel.invokeFunction(\n",
              "            'suggestCharts', [key], {});\n",
              "      } catch (error) {\n",
              "        console.error('Error during call to suggestCharts:', error);\n",
              "      }\n",
              "      quickchartButtonEl.classList.remove('colab-df-spinner');\n",
              "      quickchartButtonEl.classList.add('colab-df-quickchart-complete');\n",
              "    }\n",
              "    (() => {\n",
              "      let quickchartButtonEl =\n",
              "        document.querySelector('#df-65bae92f-3cce-40f6-9db2-87f139a24ac6 button');\n",
              "      quickchartButtonEl.style.display =\n",
              "        google.colab.kernel.accessAllowed ? 'block' : 'none';\n",
              "    })();\n",
              "  </script>\n",
              "</div>\n",
              "\n",
              "    </div>\n",
              "  </div>\n"
            ]
          },
          "metadata": {},
          "execution_count": 64
        }
      ]
    },
    {
      "cell_type": "markdown",
      "source": [
        "# Webscrape"
      ],
      "metadata": {
        "id": "4M1JdX-uC4L7"
      }
    },
    {
      "cell_type": "markdown",
      "source": [
        "## Steps:\n",
        "### Define the URL:\n",
        "\n",
        "1. Set the URL for the Wikipedia page related to Python programming.\n",
        "\n",
        "### HTTP GET Request and HTML Parsing:\n",
        "\n",
        "2. **Send HTTP GET Request:**\n",
        "   - `requests.get(url).text`: Send an HTTP GET request to the URL and retrieve the HTML content.\n",
        "\n",
        "3. **Parse HTML Content:**\n",
        "   - `BeautifulSoup(..., 'html.parser')`: Parse the HTML content using BeautifulSoup.\n",
        "\n",
        "### Print the Title:\n",
        "\n",
        "4. **Print Title:**\n",
        "   - `print(\"Title:\", soup.title.text)`: Print the title of the Wikipedia page.\n",
        "\n",
        "### Extract and Print the Second Paragraph:\n",
        "\n",
        "5. **Find and Extract Second Paragraph:**\n",
        "   - `soup.find_all('p')[1].text.strip()`: Find all paragraphs, select the second one, and extract its text.\n",
        "\n",
        "6. **Print Second Paragraph:**\n",
        "   - `print(\"Second Paragraph:\", second_paragraph)`: Print the text of the second paragraph.\n"
      ],
      "metadata": {
        "id": "dEbRyT_CH9jX"
      }
    },
    {
      "cell_type": "code",
      "source": [
        "# Wikipedia page URL\n",
        "url = \"https://en.wikipedia.org/wiki/Python_(programming_language)\"\n",
        "\n",
        "# Send an HTTP GET request to the URL and parse the HTML content\n",
        "soup = BeautifulSoup(requests.get(url).text, 'html.parser')\n",
        "\n",
        "# Print the title\n",
        "print(\"Title:\", soup.title.text)\n",
        "\n",
        "# Extract and print the text from the second paragraph\n",
        "second_paragraph = soup.find_all('p')[1].text.strip()\n",
        "print(\"Second Paragraph:\", second_paragraph)"
      ],
      "metadata": {
        "colab": {
          "base_uri": "https://localhost:8080/"
        },
        "id": "2lUlyGSbC8A8",
        "outputId": "ac5bb27e-c21a-4b99-a3dc-c6f6a7b848b3"
      },
      "execution_count": null,
      "outputs": [
        {
          "output_type": "stream",
          "name": "stdout",
          "text": [
            "Title: Python (programming language) - Wikipedia\n",
            "Second Paragraph: Python is a high-level, general-purpose programming language. Its design philosophy emphasizes code readability with the use of significant indentation.[31]\n"
          ]
        }
      ]
    }
  ]
}