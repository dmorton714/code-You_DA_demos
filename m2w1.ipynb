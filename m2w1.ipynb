{
  "cells": [
    {
      "cell_type": "markdown",
      "metadata": {
        "colab_type": "text",
        "id": "view-in-github"
      },
      "source": [
        "<a href=\"https://colab.research.google.com/github/dmorton714/code-You_DA_demos/blob/main/m2w1.ipynb\" target=\"_parent\"><img src=\"https://colab.research.google.com/assets/colab-badge.svg\" alt=\"Open In Colab\"/></a>"
      ]
    },
    {
      "cell_type": "code",
      "execution_count": 3,
      "metadata": {
        "id": "ekrFgtBzzgsW"
      },
      "outputs": [],
      "source": [
        "import pandas as pd\n",
        "import requests\n",
        "import json\n",
        "from bs4 import BeautifulSoup"
      ]
    },
    {
      "cell_type": "markdown",
      "metadata": {
        "id": "HTZ3N5rWM_AT"
      },
      "source": [
        "# Local file import"
      ]
    },
    {
      "cell_type": "code",
      "execution_count": 4,
      "metadata": {
        "id": "NpPoBqc5NDEI"
      },
      "outputs": [],
      "source": [
        "local_file = pd.read_csv('data.csv')"
      ]
    },
    {
      "cell_type": "code",
      "execution_count": 5,
      "metadata": {},
      "outputs": [
        {
          "data": {
            "text/html": [
              "<div>\n",
              "<style scoped>\n",
              "    .dataframe tbody tr th:only-of-type {\n",
              "        vertical-align: middle;\n",
              "    }\n",
              "\n",
              "    .dataframe tbody tr th {\n",
              "        vertical-align: top;\n",
              "    }\n",
              "\n",
              "    .dataframe thead th {\n",
              "        text-align: right;\n",
              "    }\n",
              "</style>\n",
              "<table border=\"1\" class=\"dataframe\">\n",
              "  <thead>\n",
              "    <tr style=\"text-align: right;\">\n",
              "      <th></th>\n",
              "      <th>Unnamed: 0</th>\n",
              "      <th>name</th>\n",
              "      <th>age</th>\n",
              "      <th>gender</th>\n",
              "      <th>race</th>\n",
              "      <th>income</th>\n",
              "    </tr>\n",
              "  </thead>\n",
              "  <tbody>\n",
              "    <tr>\n",
              "      <th>0</th>\n",
              "      <td>0</td>\n",
              "      <td>Person0</td>\n",
              "      <td>38</td>\n",
              "      <td>Male</td>\n",
              "      <td>Asian</td>\n",
              "      <td>91235</td>\n",
              "    </tr>\n",
              "    <tr>\n",
              "      <th>1</th>\n",
              "      <td>1</td>\n",
              "      <td>Person1</td>\n",
              "      <td>54</td>\n",
              "      <td>Female</td>\n",
              "      <td>Black</td>\n",
              "      <td>84464</td>\n",
              "    </tr>\n",
              "    <tr>\n",
              "      <th>2</th>\n",
              "      <td>2</td>\n",
              "      <td>Person2</td>\n",
              "      <td>21</td>\n",
              "      <td>Male</td>\n",
              "      <td>Other</td>\n",
              "      <td>57546</td>\n",
              "    </tr>\n",
              "    <tr>\n",
              "      <th>3</th>\n",
              "      <td>3</td>\n",
              "      <td>Person3</td>\n",
              "      <td>57</td>\n",
              "      <td>Female</td>\n",
              "      <td>Hispanic</td>\n",
              "      <td>68550</td>\n",
              "    </tr>\n",
              "    <tr>\n",
              "      <th>4</th>\n",
              "      <td>4</td>\n",
              "      <td>Person4</td>\n",
              "      <td>24</td>\n",
              "      <td>Male</td>\n",
              "      <td>Other</td>\n",
              "      <td>18592</td>\n",
              "    </tr>\n",
              "  </tbody>\n",
              "</table>\n",
              "</div>"
            ],
            "text/plain": [
              "   Unnamed: 0     name  age  gender      race  income\n",
              "0           0  Person0   38    Male     Asian   91235\n",
              "1           1  Person1   54  Female     Black   84464\n",
              "2           2  Person2   21    Male     Other   57546\n",
              "3           3  Person3   57  Female  Hispanic   68550\n",
              "4           4  Person4   24    Male     Other   18592"
            ]
          },
          "execution_count": 5,
          "metadata": {},
          "output_type": "execute_result"
        }
      ],
      "source": [
        "local_file.head()"
      ]
    },
    {
      "cell_type": "markdown",
      "metadata": {
        "id": "Gho5C2J267IX"
      },
      "source": [
        "## Basic API Call"
      ]
    },
    {
      "cell_type": "markdown",
      "metadata": {
        "id": "mSbAUP486_uz"
      },
      "source": [
        "Data from: https://pipedream.com/@pravin/http-api-for-latest-wuhan-coronavirus-data-2019-ncov-p_G6CLVM/readme\n",
        "\n",
        "### **The API returns:**\n",
        "\n",
        "*   **Summary stats** (count of cases, recoveries and deaths)\n",
        "\n",
        "    *   Global\n",
        "    *   Mainland China\n",
        "    *   Non-Mainland China\n",
        "\n",
        "* **Raw data** (counts by region as published in the Google Sheet)\n",
        "\n",
        "* **Metadata** (including when data was last published and the cache status)"
      ]
    },
    {
      "cell_type": "markdown",
      "metadata": {
        "id": "cn0lh3Jr-2qL"
      },
      "source": [
        "- Line 1 defines the URL that will be used for the HTTP GET request.\n",
        "- Line 2 sends an HTTP GET request to the specified URL using the get method from the requests library. The response is stored in the variable r.\n",
        "- Line 3 outputs the r variable, representing the response from the server."
      ]
    },
    {
      "cell_type": "code",
      "execution_count": 6,
      "metadata": {
        "colab": {
          "base_uri": "https://localhost:8080/"
        },
        "id": "545YHujPzlXU",
        "outputId": "715f84d1-5b14-4ed8-de7c-4ce145b3e110"
      },
      "outputs": [
        {
          "data": {
            "text/plain": [
              "<Response [200]>"
            ]
          },
          "execution_count": 6,
          "metadata": {},
          "output_type": "execute_result"
        }
      ],
      "source": [
        "url = \"https://coronavirus.m.pipedream.net/\"\n",
        "r = requests.get(url)\n",
        "r"
      ]
    },
    {
      "cell_type": "markdown",
      "metadata": {
        "id": "_vOkBjJl_swf"
      },
      "source": [
        "The line `json = r.json()` converts the JSON-formatted content of an HTTP response (r) into a Python object, making it easier to work with and extract information from the data received from the server."
      ]
    },
    {
      "cell_type": "code",
      "execution_count": 7,
      "metadata": {
        "id": "_Gstk5Sb7Q8_"
      },
      "outputs": [],
      "source": [
        "json = r.json()"
      ]
    },
    {
      "cell_type": "markdown",
      "metadata": {
        "id": "E_t_SQqDAgj3"
      },
      "source": [
        "`json.keys()` is used to retrieve the keys from a Python dictionary (or a JSON object) stored in the variable json. In the context of working with `JSON` responses from a server, it is common to use this expression to inspect or access the keys of the received JSON data."
      ]
    },
    {
      "cell_type": "code",
      "execution_count": 8,
      "metadata": {
        "colab": {
          "base_uri": "https://localhost:8080/"
        },
        "id": "LQxzPQkB7Udf",
        "outputId": "c60c2b85-4b23-42bd-a331-aa861043744a"
      },
      "outputs": [
        {
          "data": {
            "text/plain": [
              "dict_keys(['summaryStats', 'cache', 'dataSource', 'apiSourceCode', 'rawData'])"
            ]
          },
          "execution_count": 8,
          "metadata": {},
          "output_type": "execute_result"
        }
      ],
      "source": [
        "json.keys()"
      ]
    },
    {
      "cell_type": "markdown",
      "metadata": {
        "id": "mD6Tz5kDB-0I"
      },
      "source": [
        "`df = pd.DataFrame(json.get('rawData', []))` this line of code creates a DataFrame (df) using the data stored under the key 'rawData' in the json dictionary. If 'rawData' is not present, an empty DataFrame is created."
      ]
    },
    {
      "cell_type": "code",
      "execution_count": 9,
      "metadata": {
        "colab": {
          "base_uri": "https://localhost:8080/",
          "height": 313
        },
        "id": "JzsJR5_A7f-Y",
        "outputId": "d03db7fe-047b-4cc0-cb6e-1d1b29ac9c88"
      },
      "outputs": [
        {
          "data": {
            "text/html": [
              "<div>\n",
              "<style scoped>\n",
              "    .dataframe tbody tr th:only-of-type {\n",
              "        vertical-align: middle;\n",
              "    }\n",
              "\n",
              "    .dataframe tbody tr th {\n",
              "        vertical-align: top;\n",
              "    }\n",
              "\n",
              "    .dataframe thead th {\n",
              "        text-align: right;\n",
              "    }\n",
              "</style>\n",
              "<table border=\"1\" class=\"dataframe\">\n",
              "  <thead>\n",
              "    <tr style=\"text-align: right;\">\n",
              "      <th></th>\n",
              "      <th>FIPS</th>\n",
              "      <th>Admin2</th>\n",
              "      <th>Province_State</th>\n",
              "      <th>Country_Region</th>\n",
              "      <th>Last_Update</th>\n",
              "      <th>Lat</th>\n",
              "      <th>Long_</th>\n",
              "      <th>Confirmed</th>\n",
              "      <th>Deaths</th>\n",
              "      <th>Recovered</th>\n",
              "      <th>Active</th>\n",
              "      <th>Combined_Key</th>\n",
              "      <th>Incident_Rate</th>\n",
              "      <th>Case_Fatality_Ratio</th>\n",
              "    </tr>\n",
              "  </thead>\n",
              "  <tbody>\n",
              "    <tr>\n",
              "      <th>0</th>\n",
              "      <td></td>\n",
              "      <td></td>\n",
              "      <td></td>\n",
              "      <td>Afghanistan</td>\n",
              "      <td>2023-03-10 04:21:03</td>\n",
              "      <td>33.93911</td>\n",
              "      <td>67.709953</td>\n",
              "      <td>209451</td>\n",
              "      <td>7896</td>\n",
              "      <td></td>\n",
              "      <td></td>\n",
              "      <td>Afghanistan</td>\n",
              "      <td>538.0424508714615</td>\n",
              "      <td>3.76985547932452</td>\n",
              "    </tr>\n",
              "    <tr>\n",
              "      <th>1</th>\n",
              "      <td></td>\n",
              "      <td></td>\n",
              "      <td></td>\n",
              "      <td>Albania</td>\n",
              "      <td>2023-03-10 04:21:03</td>\n",
              "      <td>41.1533</td>\n",
              "      <td>20.1683</td>\n",
              "      <td>334457</td>\n",
              "      <td>3598</td>\n",
              "      <td></td>\n",
              "      <td></td>\n",
              "      <td>Albania</td>\n",
              "      <td>11621.96817012996</td>\n",
              "      <td>1.075773567304616</td>\n",
              "    </tr>\n",
              "    <tr>\n",
              "      <th>2</th>\n",
              "      <td></td>\n",
              "      <td></td>\n",
              "      <td></td>\n",
              "      <td>Algeria</td>\n",
              "      <td>2023-03-10 04:21:03</td>\n",
              "      <td>28.0339</td>\n",
              "      <td>1.6596</td>\n",
              "      <td>271496</td>\n",
              "      <td>6881</td>\n",
              "      <td></td>\n",
              "      <td></td>\n",
              "      <td>Algeria</td>\n",
              "      <td>619.132365905185</td>\n",
              "      <td>2.534475646050034</td>\n",
              "    </tr>\n",
              "    <tr>\n",
              "      <th>3</th>\n",
              "      <td></td>\n",
              "      <td></td>\n",
              "      <td></td>\n",
              "      <td>Andorra</td>\n",
              "      <td>2023-03-10 04:21:03</td>\n",
              "      <td>42.5063</td>\n",
              "      <td>1.5218</td>\n",
              "      <td>47890</td>\n",
              "      <td>165</td>\n",
              "      <td></td>\n",
              "      <td></td>\n",
              "      <td>Andorra</td>\n",
              "      <td>61981.49226687375</td>\n",
              "      <td>0.34453956984756734</td>\n",
              "    </tr>\n",
              "    <tr>\n",
              "      <th>4</th>\n",
              "      <td></td>\n",
              "      <td></td>\n",
              "      <td></td>\n",
              "      <td>Angola</td>\n",
              "      <td>2023-03-10 04:21:03</td>\n",
              "      <td>-11.2027</td>\n",
              "      <td>17.8739</td>\n",
              "      <td>105288</td>\n",
              "      <td>1933</td>\n",
              "      <td></td>\n",
              "      <td></td>\n",
              "      <td>Angola</td>\n",
              "      <td>320.35277020195906</td>\n",
              "      <td>1.835916723653218</td>\n",
              "    </tr>\n",
              "  </tbody>\n",
              "</table>\n",
              "</div>"
            ],
            "text/plain": [
              "  FIPS Admin2 Province_State Country_Region          Last_Update       Lat  \\\n",
              "0                               Afghanistan  2023-03-10 04:21:03  33.93911   \n",
              "1                                   Albania  2023-03-10 04:21:03   41.1533   \n",
              "2                                   Algeria  2023-03-10 04:21:03   28.0339   \n",
              "3                                   Andorra  2023-03-10 04:21:03   42.5063   \n",
              "4                                    Angola  2023-03-10 04:21:03  -11.2027   \n",
              "\n",
              "       Long_ Confirmed Deaths Recovered Active Combined_Key  \\\n",
              "0  67.709953    209451   7896                   Afghanistan   \n",
              "1    20.1683    334457   3598                       Albania   \n",
              "2     1.6596    271496   6881                       Algeria   \n",
              "3     1.5218     47890    165                       Andorra   \n",
              "4    17.8739    105288   1933                        Angola   \n",
              "\n",
              "        Incident_Rate  Case_Fatality_Ratio  \n",
              "0   538.0424508714615     3.76985547932452  \n",
              "1   11621.96817012996    1.075773567304616  \n",
              "2    619.132365905185    2.534475646050034  \n",
              "3   61981.49226687375  0.34453956984756734  \n",
              "4  320.35277020195906    1.835916723653218  "
            ]
          },
          "execution_count": 9,
          "metadata": {},
          "output_type": "execute_result"
        }
      ],
      "source": [
        "df = pd.DataFrame(json.get('rawData', []))\n",
        "df.head()\n"
      ]
    },
    {
      "cell_type": "markdown",
      "metadata": {
        "id": "4M1JdX-uC4L7"
      },
      "source": [
        "# Webscrape"
      ]
    },
    {
      "cell_type": "markdown",
      "metadata": {
        "id": "dEbRyT_CH9jX"
      },
      "source": [
        "## Steps:\n",
        "### Define the URL:\n",
        "\n",
        "1. Set the URL for the Wikipedia page related to Python programming.\n",
        "\n",
        "### HTTP GET Request and HTML Parsing:\n",
        "\n",
        "2. **Send HTTP GET Request:**\n",
        "   - `requests.get(url).text`: Send an HTTP GET request to the URL and retrieve the HTML content.\n",
        "\n",
        "3. **Parse HTML Content:**\n",
        "   - `BeautifulSoup(..., 'html.parser')`: Parse the HTML content using BeautifulSoup.\n",
        "\n",
        "### Print the Title:\n",
        "\n",
        "4. **Print Title:**\n",
        "   - `print(\"Title:\", soup.title.text)`: Print the title of the Wikipedia page.\n",
        "\n",
        "### Extract and Print the Second Paragraph:\n",
        "\n",
        "5. **Find and Extract Second Paragraph:**\n",
        "   - `soup.find_all('p')[1].text.strip()`: Find all paragraphs, select the second one, and extract its text.\n",
        "\n",
        "6. **Print Second Paragraph:**\n",
        "   - `print(\"Second Paragraph:\", second_paragraph)`: Print the text of the second paragraph.\n"
      ]
    },
    {
      "cell_type": "code",
      "execution_count": 10,
      "metadata": {
        "colab": {
          "base_uri": "https://localhost:8080/"
        },
        "id": "2lUlyGSbC8A8",
        "outputId": "ac5bb27e-c21a-4b99-a3dc-c6f6a7b848b3"
      },
      "outputs": [
        {
          "name": "stdout",
          "output_type": "stream",
          "text": [
            "Title: Python (programming language) - Wikipedia\n",
            "Second Paragraph: Python is a high-level, general-purpose programming language. Its design philosophy emphasizes code readability with the use of significant indentation.[31]\n"
          ]
        }
      ],
      "source": [
        "# Wikipedia page URL\n",
        "url = \"https://en.wikipedia.org/wiki/Python_(programming_language)\"\n",
        "\n",
        "# Send an HTTP GET request to the URL and parse the HTML content\n",
        "soup = BeautifulSoup(requests.get(url).text, 'html.parser')\n",
        "\n",
        "# Print the title\n",
        "print(\"Title:\", soup.title.text)\n",
        "\n",
        "# Extract and print the text from the second paragraph\n",
        "second_paragraph = soup.find_all('p')[1].text.strip()\n",
        "print(\"Second Paragraph:\", second_paragraph)"
      ]
    }
  ],
  "metadata": {
    "colab": {
      "authorship_tag": "ABX9TyPMWocuKugWPyYtbFO6/9ot",
      "include_colab_link": true,
      "provenance": []
    },
    "kernelspec": {
      "display_name": "Python 3",
      "name": "python3"
    },
    "language_info": {
      "codemirror_mode": {
        "name": "ipython",
        "version": 3
      },
      "file_extension": ".py",
      "mimetype": "text/x-python",
      "name": "python",
      "nbconvert_exporter": "python",
      "pygments_lexer": "ipython3",
      "version": "3.10.5"
    }
  },
  "nbformat": 4,
  "nbformat_minor": 0
}
